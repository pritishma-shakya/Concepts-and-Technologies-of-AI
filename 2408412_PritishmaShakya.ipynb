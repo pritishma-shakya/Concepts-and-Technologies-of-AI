{
  "nbformat": 4,
  "nbformat_minor": 0,
  "metadata": {
    "colab": {
      "provenance": [],
      "authorship_tag": "ABX9TyM64n5djWcTSXV3zqmdWQ+v",
      "include_colab_link": true
    },
    "kernelspec": {
      "name": "python3",
      "display_name": "Python 3"
    },
    "language_info": {
      "name": "python"
    }
  },
  "cells": [
    {
      "cell_type": "markdown",
      "metadata": {
        "id": "view-in-github",
        "colab_type": "text"
      },
      "source": [
        "<a href=\"https://colab.research.google.com/github/pritishma-shakya/Concepts-and-Technologies-of-AI/blob/main/2408412_PritishmaShakya.ipynb\" target=\"_parent\"><img src=\"https://colab.research.google.com/assets/colab-badge.svg\" alt=\"Open In Colab\"/></a>"
      ]
    },
    {
      "cell_type": "code",
      "execution_count": null,
      "metadata": {
        "colab": {
          "base_uri": "https://localhost:8080/"
        },
        "id": "C8wKHi5GeUPZ",
        "outputId": "13103671-c94e-477c-f6e1-5c6b185e6b36"
      },
      "outputs": [
        {
          "output_type": "stream",
          "name": "stdout",
          "text": [
            "Mounted at /content/drive\n"
          ]
        }
      ],
      "source": [
        "from google.colab import drive\n",
        "drive.mount('/content/drive')"
      ]
    },
    {
      "cell_type": "code",
      "source": [
        "%cd /content/drive/MyDrive/Assignment1AI/"
      ],
      "metadata": {
        "colab": {
          "base_uri": "https://localhost:8080/"
        },
        "id": "vMZIuSlaek3w",
        "outputId": "c1f2aeb7-c7da-4d10-8de3-9f3283a0472a"
      },
      "execution_count": null,
      "outputs": [
        {
          "output_type": "stream",
          "name": "stdout",
          "text": [
            "/content/drive/MyDrive/Assignment1AI\n"
          ]
        }
      ]
    },
    {
      "cell_type": "code",
      "source": [
        "!ls"
      ],
      "metadata": {
        "colab": {
          "base_uri": "https://localhost:8080/"
        },
        "id": "2WgWifL8exi7",
        "outputId": "d652b219-4e96-4f07-d04d-d6b0265eaa72"
      },
      "execution_count": null,
      "outputs": [
        {
          "output_type": "stream",
          "name": "stdout",
          "text": [
            "2408412_PritishmaShakya.ipynb  south_asian_countries_data.csv  WHR-2024-5CS037.csv\n"
          ]
        }
      ]
    },
    {
      "cell_type": "code",
      "source": [
        "#importing modules\n",
        "import pandas as pd\n",
        "import numpy as np\n",
        "import matplotlib.pyplot as plt\n",
        "import seaborn as sns"
      ],
      "metadata": {
        "id": "vM-N31iDezq6"
      },
      "execution_count": null,
      "outputs": []
    },
    {
      "cell_type": "markdown",
      "source": [
        "#3 Tasks - To - Do:\n",
        "Please Solve all the Problems as instructed:\n",
        "\n",
        "3.1 Problem - 1: Getting Started with Data Exploration - Some Warm up Exercises:\n",
        "\n",
        "1. Data Exploration and Understanding:\n",
        "\n",
        "  • Dataset Overview:\n",
        "  1. Load the dataset and display the first 10 rows."
      ],
      "metadata": {
        "id": "lco-my3efF_u"
      }
    },
    {
      "cell_type": "code",
      "source": [
        "#read the csv\n",
        "df=pd.read_csv('WHR-2024-5CS037.csv')\n",
        "#display first 10 rows\n",
        "df.head(10)"
      ],
      "metadata": {
        "colab": {
          "base_uri": "https://localhost:8080/",
          "height": 363
        },
        "id": "niB4spgqe_7Y",
        "outputId": "769d2336-e548-4af8-f598-e5c657d48204"
      },
      "execution_count": null,
      "outputs": [
        {
          "output_type": "execute_result",
          "data": {
            "text/plain": [
              "  Country name  score  Log GDP per capita  Social support  \\\n",
              "0      Finland  7.741               1.844           1.572   \n",
              "1      Denmark  7.583               1.908           1.520   \n",
              "2      Iceland  7.525               1.881           1.617   \n",
              "3       Sweden  7.344               1.878           1.501   \n",
              "4       Israel  7.341               1.803           1.513   \n",
              "5  Netherlands  7.319               1.901           1.462   \n",
              "6       Norway  7.302               1.952           1.517   \n",
              "7   Luxembourg  7.122               2.141           1.355   \n",
              "8  Switzerland  7.060               1.970           1.425   \n",
              "9    Australia  7.057               1.854           1.461   \n",
              "\n",
              "   Healthy life expectancy  Freedom to make life choices  Generosity  \\\n",
              "0                    0.695                         0.859       0.142   \n",
              "1                    0.699                         0.823       0.204   \n",
              "2                    0.718                         0.819       0.258   \n",
              "3                    0.724                         0.838       0.221   \n",
              "4                    0.740                         0.641       0.153   \n",
              "5                    0.706                         0.725       0.247   \n",
              "6                    0.704                         0.835       0.224   \n",
              "7                    0.708                         0.801       0.146   \n",
              "8                    0.747                         0.759       0.173   \n",
              "9                    0.692                         0.756       0.225   \n",
              "\n",
              "   Perceptions of corruption  Dystopia + residual  \n",
              "0                      0.546                2.082  \n",
              "1                      0.548                1.881  \n",
              "2                      0.182                2.050  \n",
              "3                      0.524                1.658  \n",
              "4                      0.193                2.298  \n",
              "5                      0.372                1.906  \n",
              "6                      0.484                1.586  \n",
              "7                      0.432                1.540  \n",
              "8                      0.498                1.488  \n",
              "9                      0.323                1.745  "
            ],
            "text/html": [
              "\n",
              "  <div id=\"df-a240db01-01b4-4fac-9424-7d5c8ec062ed\" class=\"colab-df-container\">\n",
              "    <div>\n",
              "<style scoped>\n",
              "    .dataframe tbody tr th:only-of-type {\n",
              "        vertical-align: middle;\n",
              "    }\n",
              "\n",
              "    .dataframe tbody tr th {\n",
              "        vertical-align: top;\n",
              "    }\n",
              "\n",
              "    .dataframe thead th {\n",
              "        text-align: right;\n",
              "    }\n",
              "</style>\n",
              "<table border=\"1\" class=\"dataframe\">\n",
              "  <thead>\n",
              "    <tr style=\"text-align: right;\">\n",
              "      <th></th>\n",
              "      <th>Country name</th>\n",
              "      <th>score</th>\n",
              "      <th>Log GDP per capita</th>\n",
              "      <th>Social support</th>\n",
              "      <th>Healthy life expectancy</th>\n",
              "      <th>Freedom to make life choices</th>\n",
              "      <th>Generosity</th>\n",
              "      <th>Perceptions of corruption</th>\n",
              "      <th>Dystopia + residual</th>\n",
              "    </tr>\n",
              "  </thead>\n",
              "  <tbody>\n",
              "    <tr>\n",
              "      <th>0</th>\n",
              "      <td>Finland</td>\n",
              "      <td>7.741</td>\n",
              "      <td>1.844</td>\n",
              "      <td>1.572</td>\n",
              "      <td>0.695</td>\n",
              "      <td>0.859</td>\n",
              "      <td>0.142</td>\n",
              "      <td>0.546</td>\n",
              "      <td>2.082</td>\n",
              "    </tr>\n",
              "    <tr>\n",
              "      <th>1</th>\n",
              "      <td>Denmark</td>\n",
              "      <td>7.583</td>\n",
              "      <td>1.908</td>\n",
              "      <td>1.520</td>\n",
              "      <td>0.699</td>\n",
              "      <td>0.823</td>\n",
              "      <td>0.204</td>\n",
              "      <td>0.548</td>\n",
              "      <td>1.881</td>\n",
              "    </tr>\n",
              "    <tr>\n",
              "      <th>2</th>\n",
              "      <td>Iceland</td>\n",
              "      <td>7.525</td>\n",
              "      <td>1.881</td>\n",
              "      <td>1.617</td>\n",
              "      <td>0.718</td>\n",
              "      <td>0.819</td>\n",
              "      <td>0.258</td>\n",
              "      <td>0.182</td>\n",
              "      <td>2.050</td>\n",
              "    </tr>\n",
              "    <tr>\n",
              "      <th>3</th>\n",
              "      <td>Sweden</td>\n",
              "      <td>7.344</td>\n",
              "      <td>1.878</td>\n",
              "      <td>1.501</td>\n",
              "      <td>0.724</td>\n",
              "      <td>0.838</td>\n",
              "      <td>0.221</td>\n",
              "      <td>0.524</td>\n",
              "      <td>1.658</td>\n",
              "    </tr>\n",
              "    <tr>\n",
              "      <th>4</th>\n",
              "      <td>Israel</td>\n",
              "      <td>7.341</td>\n",
              "      <td>1.803</td>\n",
              "      <td>1.513</td>\n",
              "      <td>0.740</td>\n",
              "      <td>0.641</td>\n",
              "      <td>0.153</td>\n",
              "      <td>0.193</td>\n",
              "      <td>2.298</td>\n",
              "    </tr>\n",
              "    <tr>\n",
              "      <th>5</th>\n",
              "      <td>Netherlands</td>\n",
              "      <td>7.319</td>\n",
              "      <td>1.901</td>\n",
              "      <td>1.462</td>\n",
              "      <td>0.706</td>\n",
              "      <td>0.725</td>\n",
              "      <td>0.247</td>\n",
              "      <td>0.372</td>\n",
              "      <td>1.906</td>\n",
              "    </tr>\n",
              "    <tr>\n",
              "      <th>6</th>\n",
              "      <td>Norway</td>\n",
              "      <td>7.302</td>\n",
              "      <td>1.952</td>\n",
              "      <td>1.517</td>\n",
              "      <td>0.704</td>\n",
              "      <td>0.835</td>\n",
              "      <td>0.224</td>\n",
              "      <td>0.484</td>\n",
              "      <td>1.586</td>\n",
              "    </tr>\n",
              "    <tr>\n",
              "      <th>7</th>\n",
              "      <td>Luxembourg</td>\n",
              "      <td>7.122</td>\n",
              "      <td>2.141</td>\n",
              "      <td>1.355</td>\n",
              "      <td>0.708</td>\n",
              "      <td>0.801</td>\n",
              "      <td>0.146</td>\n",
              "      <td>0.432</td>\n",
              "      <td>1.540</td>\n",
              "    </tr>\n",
              "    <tr>\n",
              "      <th>8</th>\n",
              "      <td>Switzerland</td>\n",
              "      <td>7.060</td>\n",
              "      <td>1.970</td>\n",
              "      <td>1.425</td>\n",
              "      <td>0.747</td>\n",
              "      <td>0.759</td>\n",
              "      <td>0.173</td>\n",
              "      <td>0.498</td>\n",
              "      <td>1.488</td>\n",
              "    </tr>\n",
              "    <tr>\n",
              "      <th>9</th>\n",
              "      <td>Australia</td>\n",
              "      <td>7.057</td>\n",
              "      <td>1.854</td>\n",
              "      <td>1.461</td>\n",
              "      <td>0.692</td>\n",
              "      <td>0.756</td>\n",
              "      <td>0.225</td>\n",
              "      <td>0.323</td>\n",
              "      <td>1.745</td>\n",
              "    </tr>\n",
              "  </tbody>\n",
              "</table>\n",
              "</div>\n",
              "    <div class=\"colab-df-buttons\">\n",
              "\n",
              "  <div class=\"colab-df-container\">\n",
              "    <button class=\"colab-df-convert\" onclick=\"convertToInteractive('df-a240db01-01b4-4fac-9424-7d5c8ec062ed')\"\n",
              "            title=\"Convert this dataframe to an interactive table.\"\n",
              "            style=\"display:none;\">\n",
              "\n",
              "  <svg xmlns=\"http://www.w3.org/2000/svg\" height=\"24px\" viewBox=\"0 -960 960 960\">\n",
              "    <path d=\"M120-120v-720h720v720H120Zm60-500h600v-160H180v160Zm220 220h160v-160H400v160Zm0 220h160v-160H400v160ZM180-400h160v-160H180v160Zm440 0h160v-160H620v160ZM180-180h160v-160H180v160Zm440 0h160v-160H620v160Z\"/>\n",
              "  </svg>\n",
              "    </button>\n",
              "\n",
              "  <style>\n",
              "    .colab-df-container {\n",
              "      display:flex;\n",
              "      gap: 12px;\n",
              "    }\n",
              "\n",
              "    .colab-df-convert {\n",
              "      background-color: #E8F0FE;\n",
              "      border: none;\n",
              "      border-radius: 50%;\n",
              "      cursor: pointer;\n",
              "      display: none;\n",
              "      fill: #1967D2;\n",
              "      height: 32px;\n",
              "      padding: 0 0 0 0;\n",
              "      width: 32px;\n",
              "    }\n",
              "\n",
              "    .colab-df-convert:hover {\n",
              "      background-color: #E2EBFA;\n",
              "      box-shadow: 0px 1px 2px rgba(60, 64, 67, 0.3), 0px 1px 3px 1px rgba(60, 64, 67, 0.15);\n",
              "      fill: #174EA6;\n",
              "    }\n",
              "\n",
              "    .colab-df-buttons div {\n",
              "      margin-bottom: 4px;\n",
              "    }\n",
              "\n",
              "    [theme=dark] .colab-df-convert {\n",
              "      background-color: #3B4455;\n",
              "      fill: #D2E3FC;\n",
              "    }\n",
              "\n",
              "    [theme=dark] .colab-df-convert:hover {\n",
              "      background-color: #434B5C;\n",
              "      box-shadow: 0px 1px 3px 1px rgba(0, 0, 0, 0.15);\n",
              "      filter: drop-shadow(0px 1px 2px rgba(0, 0, 0, 0.3));\n",
              "      fill: #FFFFFF;\n",
              "    }\n",
              "  </style>\n",
              "\n",
              "    <script>\n",
              "      const buttonEl =\n",
              "        document.querySelector('#df-a240db01-01b4-4fac-9424-7d5c8ec062ed button.colab-df-convert');\n",
              "      buttonEl.style.display =\n",
              "        google.colab.kernel.accessAllowed ? 'block' : 'none';\n",
              "\n",
              "      async function convertToInteractive(key) {\n",
              "        const element = document.querySelector('#df-a240db01-01b4-4fac-9424-7d5c8ec062ed');\n",
              "        const dataTable =\n",
              "          await google.colab.kernel.invokeFunction('convertToInteractive',\n",
              "                                                    [key], {});\n",
              "        if (!dataTable) return;\n",
              "\n",
              "        const docLinkHtml = 'Like what you see? Visit the ' +\n",
              "          '<a target=\"_blank\" href=https://colab.research.google.com/notebooks/data_table.ipynb>data table notebook</a>'\n",
              "          + ' to learn more about interactive tables.';\n",
              "        element.innerHTML = '';\n",
              "        dataTable['output_type'] = 'display_data';\n",
              "        await google.colab.output.renderOutput(dataTable, element);\n",
              "        const docLink = document.createElement('div');\n",
              "        docLink.innerHTML = docLinkHtml;\n",
              "        element.appendChild(docLink);\n",
              "      }\n",
              "    </script>\n",
              "  </div>\n",
              "\n",
              "\n",
              "<div id=\"df-a144d0c8-667a-4295-b169-44207106c562\">\n",
              "  <button class=\"colab-df-quickchart\" onclick=\"quickchart('df-a144d0c8-667a-4295-b169-44207106c562')\"\n",
              "            title=\"Suggest charts\"\n",
              "            style=\"display:none;\">\n",
              "\n",
              "<svg xmlns=\"http://www.w3.org/2000/svg\" height=\"24px\"viewBox=\"0 0 24 24\"\n",
              "     width=\"24px\">\n",
              "    <g>\n",
              "        <path d=\"M19 3H5c-1.1 0-2 .9-2 2v14c0 1.1.9 2 2 2h14c1.1 0 2-.9 2-2V5c0-1.1-.9-2-2-2zM9 17H7v-7h2v7zm4 0h-2V7h2v10zm4 0h-2v-4h2v4z\"/>\n",
              "    </g>\n",
              "</svg>\n",
              "  </button>\n",
              "\n",
              "<style>\n",
              "  .colab-df-quickchart {\n",
              "      --bg-color: #E8F0FE;\n",
              "      --fill-color: #1967D2;\n",
              "      --hover-bg-color: #E2EBFA;\n",
              "      --hover-fill-color: #174EA6;\n",
              "      --disabled-fill-color: #AAA;\n",
              "      --disabled-bg-color: #DDD;\n",
              "  }\n",
              "\n",
              "  [theme=dark] .colab-df-quickchart {\n",
              "      --bg-color: #3B4455;\n",
              "      --fill-color: #D2E3FC;\n",
              "      --hover-bg-color: #434B5C;\n",
              "      --hover-fill-color: #FFFFFF;\n",
              "      --disabled-bg-color: #3B4455;\n",
              "      --disabled-fill-color: #666;\n",
              "  }\n",
              "\n",
              "  .colab-df-quickchart {\n",
              "    background-color: var(--bg-color);\n",
              "    border: none;\n",
              "    border-radius: 50%;\n",
              "    cursor: pointer;\n",
              "    display: none;\n",
              "    fill: var(--fill-color);\n",
              "    height: 32px;\n",
              "    padding: 0;\n",
              "    width: 32px;\n",
              "  }\n",
              "\n",
              "  .colab-df-quickchart:hover {\n",
              "    background-color: var(--hover-bg-color);\n",
              "    box-shadow: 0 1px 2px rgba(60, 64, 67, 0.3), 0 1px 3px 1px rgba(60, 64, 67, 0.15);\n",
              "    fill: var(--button-hover-fill-color);\n",
              "  }\n",
              "\n",
              "  .colab-df-quickchart-complete:disabled,\n",
              "  .colab-df-quickchart-complete:disabled:hover {\n",
              "    background-color: var(--disabled-bg-color);\n",
              "    fill: var(--disabled-fill-color);\n",
              "    box-shadow: none;\n",
              "  }\n",
              "\n",
              "  .colab-df-spinner {\n",
              "    border: 2px solid var(--fill-color);\n",
              "    border-color: transparent;\n",
              "    border-bottom-color: var(--fill-color);\n",
              "    animation:\n",
              "      spin 1s steps(1) infinite;\n",
              "  }\n",
              "\n",
              "  @keyframes spin {\n",
              "    0% {\n",
              "      border-color: transparent;\n",
              "      border-bottom-color: var(--fill-color);\n",
              "      border-left-color: var(--fill-color);\n",
              "    }\n",
              "    20% {\n",
              "      border-color: transparent;\n",
              "      border-left-color: var(--fill-color);\n",
              "      border-top-color: var(--fill-color);\n",
              "    }\n",
              "    30% {\n",
              "      border-color: transparent;\n",
              "      border-left-color: var(--fill-color);\n",
              "      border-top-color: var(--fill-color);\n",
              "      border-right-color: var(--fill-color);\n",
              "    }\n",
              "    40% {\n",
              "      border-color: transparent;\n",
              "      border-right-color: var(--fill-color);\n",
              "      border-top-color: var(--fill-color);\n",
              "    }\n",
              "    60% {\n",
              "      border-color: transparent;\n",
              "      border-right-color: var(--fill-color);\n",
              "    }\n",
              "    80% {\n",
              "      border-color: transparent;\n",
              "      border-right-color: var(--fill-color);\n",
              "      border-bottom-color: var(--fill-color);\n",
              "    }\n",
              "    90% {\n",
              "      border-color: transparent;\n",
              "      border-bottom-color: var(--fill-color);\n",
              "    }\n",
              "  }\n",
              "</style>\n",
              "\n",
              "  <script>\n",
              "    async function quickchart(key) {\n",
              "      const quickchartButtonEl =\n",
              "        document.querySelector('#' + key + ' button');\n",
              "      quickchartButtonEl.disabled = true;  // To prevent multiple clicks.\n",
              "      quickchartButtonEl.classList.add('colab-df-spinner');\n",
              "      try {\n",
              "        const charts = await google.colab.kernel.invokeFunction(\n",
              "            'suggestCharts', [key], {});\n",
              "      } catch (error) {\n",
              "        console.error('Error during call to suggestCharts:', error);\n",
              "      }\n",
              "      quickchartButtonEl.classList.remove('colab-df-spinner');\n",
              "      quickchartButtonEl.classList.add('colab-df-quickchart-complete');\n",
              "    }\n",
              "    (() => {\n",
              "      let quickchartButtonEl =\n",
              "        document.querySelector('#df-a144d0c8-667a-4295-b169-44207106c562 button');\n",
              "      quickchartButtonEl.style.display =\n",
              "        google.colab.kernel.accessAllowed ? 'block' : 'none';\n",
              "    })();\n",
              "  </script>\n",
              "</div>\n",
              "\n",
              "    </div>\n",
              "  </div>\n"
            ],
            "application/vnd.google.colaboratory.intrinsic+json": {
              "type": "dataframe",
              "variable_name": "df",
              "summary": "{\n  \"name\": \"df\",\n  \"rows\": 143,\n  \"fields\": [\n    {\n      \"column\": \"Country name\",\n      \"properties\": {\n        \"dtype\": \"string\",\n        \"num_unique_values\": 143,\n        \"samples\": [\n          \"Myanmar\",\n          \"United Kingdom\",\n          \"South Africa\"\n        ],\n        \"semantic_type\": \"\",\n        \"description\": \"\"\n      }\n    },\n    {\n      \"column\": \"score\",\n      \"properties\": {\n        \"dtype\": \"number\",\n        \"std\": 1.1707165099442995,\n        \"min\": 1.721,\n        \"max\": 7.741,\n        \"num_unique_values\": 140,\n        \"samples\": [\n          4.505,\n          5.823,\n          6.491\n        ],\n        \"semantic_type\": \"\",\n        \"description\": \"\"\n      }\n    },\n    {\n      \"column\": \"Log GDP per capita\",\n      \"properties\": {\n        \"dtype\": \"number\",\n        \"std\": 0.4250983279640385,\n        \"min\": 0.0,\n        \"max\": 2.141,\n        \"num_unique_values\": 134,\n        \"samples\": [\n          0.617,\n          1.385,\n          0.75\n        ],\n        \"semantic_type\": \"\",\n        \"description\": \"\"\n      }\n    },\n    {\n      \"column\": \"Social support\",\n      \"properties\": {\n        \"dtype\": \"number\",\n        \"std\": 0.3333171290682772,\n        \"min\": 0.0,\n        \"max\": 1.617,\n        \"num_unique_values\": 124,\n        \"samples\": [\n          1.454,\n          1.394,\n          1.328\n        ],\n        \"semantic_type\": \"\",\n        \"description\": \"\"\n      }\n    },\n    {\n      \"column\": \"Healthy life expectancy\",\n      \"properties\": {\n        \"dtype\": \"number\",\n        \"std\": 0.16492252751586103,\n        \"min\": 0.0,\n        \"max\": 0.857,\n        \"num_unique_values\": 119,\n        \"samples\": [\n          0.662,\n          0.293,\n          0.74\n        ],\n        \"semantic_type\": \"\",\n        \"description\": \"\"\n      }\n    },\n    {\n      \"column\": \"Freedom to make life choices\",\n      \"properties\": {\n        \"dtype\": \"number\",\n        \"std\": 0.1624918135340067,\n        \"min\": 0.0,\n        \"max\": 0.863,\n        \"num_unique_values\": 122,\n        \"samples\": [\n          0.533,\n          0.681,\n          0.529\n        ],\n        \"semantic_type\": \"\",\n        \"description\": \"\"\n      }\n    },\n    {\n      \"column\": \"Generosity\",\n      \"properties\": {\n        \"dtype\": \"number\",\n        \"std\": 0.07344129382188384,\n        \"min\": 0.0,\n        \"max\": 0.401,\n        \"num_unique_values\": 110,\n        \"samples\": [\n          0.141,\n          0.226,\n          0.153\n        ],\n        \"semantic_type\": \"\",\n        \"description\": \"\"\n      }\n    },\n    {\n      \"column\": \"Perceptions of corruption\",\n      \"properties\": {\n        \"dtype\": \"number\",\n        \"std\": 0.12623818231503292,\n        \"min\": 0.0,\n        \"max\": 0.575,\n        \"num_unique_values\": 112,\n        \"samples\": [\n          0.078,\n          0.118,\n          0.193\n        ],\n        \"semantic_type\": \"\",\n        \"description\": \"\"\n      }\n    },\n    {\n      \"column\": \"Dystopia + residual\",\n      \"properties\": {\n        \"dtype\": \"number\",\n        \"std\": 0.5374585074928712,\n        \"min\": -0.073,\n        \"max\": 2.998,\n        \"num_unique_values\": 134,\n        \"samples\": [\n          0.066,\n          1.795,\n          2.122\n        ],\n        \"semantic_type\": \"\",\n        \"description\": \"\"\n      }\n    }\n  ]\n}"
            }
          },
          "metadata": {},
          "execution_count": 18
        }
      ]
    },
    {
      "cell_type": "markdown",
      "source": [
        "  2. Identify the number of rows and columns in the dataset."
      ],
      "metadata": {
        "id": "c_wAsSl6vF5U"
      }
    },
    {
      "cell_type": "code",
      "source": [
        "#displaying the number of rows and columns\n",
        "print(\"Number of rows: \",df.shape[0])\n",
        "print(\"Number of columns: \", df.shape[1])"
      ],
      "metadata": {
        "colab": {
          "base_uri": "https://localhost:8080/"
        },
        "id": "GdbRmYyVhXBI",
        "outputId": "b4e2ab34-9a33-4611-bd1e-f4ac95628c07"
      },
      "execution_count": null,
      "outputs": [
        {
          "output_type": "stream",
          "name": "stdout",
          "text": [
            "Number of rows:  143\n",
            "Number of columns:  9\n"
          ]
        }
      ]
    },
    {
      "cell_type": "markdown",
      "source": [
        "\n",
        "  3. List all the columns and their data types."
      ],
      "metadata": {
        "id": "KS_Yk-74vKhj"
      }
    },
    {
      "cell_type": "code",
      "source": [
        "print(df.dtypes)"
      ],
      "metadata": {
        "colab": {
          "base_uri": "https://localhost:8080/"
        },
        "id": "W8THBqZShc9M",
        "outputId": "36d4e6f3-f5be-4716-8187-8f087c438a1b"
      },
      "execution_count": null,
      "outputs": [
        {
          "output_type": "stream",
          "name": "stdout",
          "text": [
            "Country name                     object\n",
            "score                           float64\n",
            "Log GDP per capita              float64\n",
            "Social support                  float64\n",
            "Healthy life expectancy         float64\n",
            "Freedom to make life choices    float64\n",
            "Generosity                      float64\n",
            "Perceptions of corruption       float64\n",
            "Dystopia + residual             float64\n",
            "dtype: object\n"
          ]
        }
      ]
    },
    {
      "cell_type": "markdown",
      "source": [
        "• Basic Statistics:\n",
        "1. Calculate the mean, median, and standard deviation for the Score column."
      ],
      "metadata": {
        "id": "NqiFZ4zgh30U"
      }
    },
    {
      "cell_type": "code",
      "source": [
        "print(\"Mean for score: \", df['score'].mean())\n",
        "print(\"Median for score: \", df['score'].median())\n",
        "print(\"Standard Deviation for score: \", df['score'].std())"
      ],
      "metadata": {
        "colab": {
          "base_uri": "https://localhost:8080/"
        },
        "id": "d00ux3eVh6Rk",
        "outputId": "e8d0b9a0-1c3e-43d9-c639-503f3d18f63f"
      },
      "execution_count": null,
      "outputs": [
        {
          "output_type": "stream",
          "name": "stdout",
          "text": [
            "Mean for score:  5.52758041958042\n",
            "Median for score:  5.785\n",
            "Standard Deviation for score:  1.1707165099442995\n"
          ]
        }
      ]
    },
    {
      "cell_type": "markdown",
      "source": [
        "2. Identify the country with the highest and lowest happiness scores."
      ],
      "metadata": {
        "id": "o4PFwpPrvzjZ"
      }
    },
    {
      "cell_type": "code",
      "source": [
        "#find the country with the highest happiness scores\n",
        "highest_score_country = df.loc[df['score'].idxmax()]\n",
        "#find the country with the lowest happiness scores\n",
        "lowest_score_country = df.loc[df['score'].idxmin()]\n",
        "\n",
        "#display the country with highest happiness score\n",
        "print(\"\\nCountry with the highest happiness score:\")\n",
        "print(f\"Country: {highest_score_country['Country name']}\")\n",
        "print(f\"Score: {highest_score_country['score']}\")\n",
        "\n",
        "#dislay the country with lowest happiness score\n",
        "print(\"\\nCountry with the lowest happiness score:\")\n",
        "print(f\"County: {lowest_score_country['Country name']}\")\n",
        "print(f\"Score: {lowest_score_country['score']}\")"
      ],
      "metadata": {
        "colab": {
          "base_uri": "https://localhost:8080/"
        },
        "id": "WZXTsOFLijqe",
        "outputId": "13ed4b00-043f-48ed-fd51-1b2e9f5e4bab"
      },
      "execution_count": null,
      "outputs": [
        {
          "output_type": "stream",
          "name": "stdout",
          "text": [
            "\n",
            "Country with the highest happiness score:\n",
            "Country: Finland\n",
            "Score: 7.741\n",
            "\n",
            "Country with the lowest happiness score:\n",
            "County: Afghanistan\n",
            "Score: 1.721\n"
          ]
        }
      ]
    },
    {
      "cell_type": "markdown",
      "source": [
        "• Missing Values:\n",
        "1. Check if there are any missing values in the dataset. If so, display the total count for each column."
      ],
      "metadata": {
        "id": "doW3ovL3kkSH"
      }
    },
    {
      "cell_type": "code",
      "source": [
        "# Check for missing values and display the count for each column\n",
        "missing_values = df.isnull().sum()\n",
        "print(\"Missing values count: \")\n",
        "print(missing_values)"
      ],
      "metadata": {
        "colab": {
          "base_uri": "https://localhost:8080/"
        },
        "id": "uuL6Bsr8jbU9",
        "outputId": "cc491127-4b90-4796-904a-f586a2ea5766"
      },
      "execution_count": null,
      "outputs": [
        {
          "output_type": "stream",
          "name": "stdout",
          "text": [
            "Missing values count: \n",
            "Country name                    0\n",
            "score                           0\n",
            "Log GDP per capita              3\n",
            "Social support                  3\n",
            "Healthy life expectancy         3\n",
            "Freedom to make life choices    3\n",
            "Generosity                      3\n",
            "Perceptions of corruption       3\n",
            "Dystopia + residual             3\n",
            "dtype: int64\n"
          ]
        }
      ]
    },
    {
      "cell_type": "markdown",
      "source": [
        "• Filtering and Sorting:\n",
        "1. Filter the dataset to show only the countries with a Score greater than 7.5.\n"
      ],
      "metadata": {
        "id": "RnZJAX25lFqL"
      }
    },
    {
      "cell_type": "code",
      "source": [
        "#filter the countries with happiness score greater than 7.5\n",
        "filtered_df=df[df['score']>7.5]\n",
        "print(\"Countries with score greater than 7.5: \")\n",
        "filtered_df"
      ],
      "metadata": {
        "colab": {
          "base_uri": "https://localhost:8080/",
          "height": 161
        },
        "id": "CZiSStVVAnAt",
        "outputId": "648ab7ff-a541-40d9-bce5-0a5a823311db"
      },
      "execution_count": null,
      "outputs": [
        {
          "output_type": "stream",
          "name": "stdout",
          "text": [
            "Countries with score greater than 7.5: \n"
          ]
        },
        {
          "output_type": "execute_result",
          "data": {
            "text/plain": [
              "  Country name  score  Log GDP per capita  Social support  \\\n",
              "0      Finland  7.741               1.844           1.572   \n",
              "1      Denmark  7.583               1.908           1.520   \n",
              "2      Iceland  7.525               1.881           1.617   \n",
              "\n",
              "   Healthy life expectancy  Freedom to make life choices  Generosity  \\\n",
              "0                    0.695                         0.859       0.142   \n",
              "1                    0.699                         0.823       0.204   \n",
              "2                    0.718                         0.819       0.258   \n",
              "\n",
              "   Perceptions of corruption  Dystopia + residual  \n",
              "0                      0.546                2.082  \n",
              "1                      0.548                1.881  \n",
              "2                      0.182                2.050  "
            ],
            "text/html": [
              "\n",
              "  <div id=\"df-1e6f056d-8733-4698-b183-b8d0525b941c\" class=\"colab-df-container\">\n",
              "    <div>\n",
              "<style scoped>\n",
              "    .dataframe tbody tr th:only-of-type {\n",
              "        vertical-align: middle;\n",
              "    }\n",
              "\n",
              "    .dataframe tbody tr th {\n",
              "        vertical-align: top;\n",
              "    }\n",
              "\n",
              "    .dataframe thead th {\n",
              "        text-align: right;\n",
              "    }\n",
              "</style>\n",
              "<table border=\"1\" class=\"dataframe\">\n",
              "  <thead>\n",
              "    <tr style=\"text-align: right;\">\n",
              "      <th></th>\n",
              "      <th>Country name</th>\n",
              "      <th>score</th>\n",
              "      <th>Log GDP per capita</th>\n",
              "      <th>Social support</th>\n",
              "      <th>Healthy life expectancy</th>\n",
              "      <th>Freedom to make life choices</th>\n",
              "      <th>Generosity</th>\n",
              "      <th>Perceptions of corruption</th>\n",
              "      <th>Dystopia + residual</th>\n",
              "    </tr>\n",
              "  </thead>\n",
              "  <tbody>\n",
              "    <tr>\n",
              "      <th>0</th>\n",
              "      <td>Finland</td>\n",
              "      <td>7.741</td>\n",
              "      <td>1.844</td>\n",
              "      <td>1.572</td>\n",
              "      <td>0.695</td>\n",
              "      <td>0.859</td>\n",
              "      <td>0.142</td>\n",
              "      <td>0.546</td>\n",
              "      <td>2.082</td>\n",
              "    </tr>\n",
              "    <tr>\n",
              "      <th>1</th>\n",
              "      <td>Denmark</td>\n",
              "      <td>7.583</td>\n",
              "      <td>1.908</td>\n",
              "      <td>1.520</td>\n",
              "      <td>0.699</td>\n",
              "      <td>0.823</td>\n",
              "      <td>0.204</td>\n",
              "      <td>0.548</td>\n",
              "      <td>1.881</td>\n",
              "    </tr>\n",
              "    <tr>\n",
              "      <th>2</th>\n",
              "      <td>Iceland</td>\n",
              "      <td>7.525</td>\n",
              "      <td>1.881</td>\n",
              "      <td>1.617</td>\n",
              "      <td>0.718</td>\n",
              "      <td>0.819</td>\n",
              "      <td>0.258</td>\n",
              "      <td>0.182</td>\n",
              "      <td>2.050</td>\n",
              "    </tr>\n",
              "  </tbody>\n",
              "</table>\n",
              "</div>\n",
              "    <div class=\"colab-df-buttons\">\n",
              "\n",
              "  <div class=\"colab-df-container\">\n",
              "    <button class=\"colab-df-convert\" onclick=\"convertToInteractive('df-1e6f056d-8733-4698-b183-b8d0525b941c')\"\n",
              "            title=\"Convert this dataframe to an interactive table.\"\n",
              "            style=\"display:none;\">\n",
              "\n",
              "  <svg xmlns=\"http://www.w3.org/2000/svg\" height=\"24px\" viewBox=\"0 -960 960 960\">\n",
              "    <path d=\"M120-120v-720h720v720H120Zm60-500h600v-160H180v160Zm220 220h160v-160H400v160Zm0 220h160v-160H400v160ZM180-400h160v-160H180v160Zm440 0h160v-160H620v160ZM180-180h160v-160H180v160Zm440 0h160v-160H620v160Z\"/>\n",
              "  </svg>\n",
              "    </button>\n",
              "\n",
              "  <style>\n",
              "    .colab-df-container {\n",
              "      display:flex;\n",
              "      gap: 12px;\n",
              "    }\n",
              "\n",
              "    .colab-df-convert {\n",
              "      background-color: #E8F0FE;\n",
              "      border: none;\n",
              "      border-radius: 50%;\n",
              "      cursor: pointer;\n",
              "      display: none;\n",
              "      fill: #1967D2;\n",
              "      height: 32px;\n",
              "      padding: 0 0 0 0;\n",
              "      width: 32px;\n",
              "    }\n",
              "\n",
              "    .colab-df-convert:hover {\n",
              "      background-color: #E2EBFA;\n",
              "      box-shadow: 0px 1px 2px rgba(60, 64, 67, 0.3), 0px 1px 3px 1px rgba(60, 64, 67, 0.15);\n",
              "      fill: #174EA6;\n",
              "    }\n",
              "\n",
              "    .colab-df-buttons div {\n",
              "      margin-bottom: 4px;\n",
              "    }\n",
              "\n",
              "    [theme=dark] .colab-df-convert {\n",
              "      background-color: #3B4455;\n",
              "      fill: #D2E3FC;\n",
              "    }\n",
              "\n",
              "    [theme=dark] .colab-df-convert:hover {\n",
              "      background-color: #434B5C;\n",
              "      box-shadow: 0px 1px 3px 1px rgba(0, 0, 0, 0.15);\n",
              "      filter: drop-shadow(0px 1px 2px rgba(0, 0, 0, 0.3));\n",
              "      fill: #FFFFFF;\n",
              "    }\n",
              "  </style>\n",
              "\n",
              "    <script>\n",
              "      const buttonEl =\n",
              "        document.querySelector('#df-1e6f056d-8733-4698-b183-b8d0525b941c button.colab-df-convert');\n",
              "      buttonEl.style.display =\n",
              "        google.colab.kernel.accessAllowed ? 'block' : 'none';\n",
              "\n",
              "      async function convertToInteractive(key) {\n",
              "        const element = document.querySelector('#df-1e6f056d-8733-4698-b183-b8d0525b941c');\n",
              "        const dataTable =\n",
              "          await google.colab.kernel.invokeFunction('convertToInteractive',\n",
              "                                                    [key], {});\n",
              "        if (!dataTable) return;\n",
              "\n",
              "        const docLinkHtml = 'Like what you see? Visit the ' +\n",
              "          '<a target=\"_blank\" href=https://colab.research.google.com/notebooks/data_table.ipynb>data table notebook</a>'\n",
              "          + ' to learn more about interactive tables.';\n",
              "        element.innerHTML = '';\n",
              "        dataTable['output_type'] = 'display_data';\n",
              "        await google.colab.output.renderOutput(dataTable, element);\n",
              "        const docLink = document.createElement('div');\n",
              "        docLink.innerHTML = docLinkHtml;\n",
              "        element.appendChild(docLink);\n",
              "      }\n",
              "    </script>\n",
              "  </div>\n",
              "\n",
              "\n",
              "<div id=\"df-d8f8359d-65d0-4905-a8a8-660075cb810d\">\n",
              "  <button class=\"colab-df-quickchart\" onclick=\"quickchart('df-d8f8359d-65d0-4905-a8a8-660075cb810d')\"\n",
              "            title=\"Suggest charts\"\n",
              "            style=\"display:none;\">\n",
              "\n",
              "<svg xmlns=\"http://www.w3.org/2000/svg\" height=\"24px\"viewBox=\"0 0 24 24\"\n",
              "     width=\"24px\">\n",
              "    <g>\n",
              "        <path d=\"M19 3H5c-1.1 0-2 .9-2 2v14c0 1.1.9 2 2 2h14c1.1 0 2-.9 2-2V5c0-1.1-.9-2-2-2zM9 17H7v-7h2v7zm4 0h-2V7h2v10zm4 0h-2v-4h2v4z\"/>\n",
              "    </g>\n",
              "</svg>\n",
              "  </button>\n",
              "\n",
              "<style>\n",
              "  .colab-df-quickchart {\n",
              "      --bg-color: #E8F0FE;\n",
              "      --fill-color: #1967D2;\n",
              "      --hover-bg-color: #E2EBFA;\n",
              "      --hover-fill-color: #174EA6;\n",
              "      --disabled-fill-color: #AAA;\n",
              "      --disabled-bg-color: #DDD;\n",
              "  }\n",
              "\n",
              "  [theme=dark] .colab-df-quickchart {\n",
              "      --bg-color: #3B4455;\n",
              "      --fill-color: #D2E3FC;\n",
              "      --hover-bg-color: #434B5C;\n",
              "      --hover-fill-color: #FFFFFF;\n",
              "      --disabled-bg-color: #3B4455;\n",
              "      --disabled-fill-color: #666;\n",
              "  }\n",
              "\n",
              "  .colab-df-quickchart {\n",
              "    background-color: var(--bg-color);\n",
              "    border: none;\n",
              "    border-radius: 50%;\n",
              "    cursor: pointer;\n",
              "    display: none;\n",
              "    fill: var(--fill-color);\n",
              "    height: 32px;\n",
              "    padding: 0;\n",
              "    width: 32px;\n",
              "  }\n",
              "\n",
              "  .colab-df-quickchart:hover {\n",
              "    background-color: var(--hover-bg-color);\n",
              "    box-shadow: 0 1px 2px rgba(60, 64, 67, 0.3), 0 1px 3px 1px rgba(60, 64, 67, 0.15);\n",
              "    fill: var(--button-hover-fill-color);\n",
              "  }\n",
              "\n",
              "  .colab-df-quickchart-complete:disabled,\n",
              "  .colab-df-quickchart-complete:disabled:hover {\n",
              "    background-color: var(--disabled-bg-color);\n",
              "    fill: var(--disabled-fill-color);\n",
              "    box-shadow: none;\n",
              "  }\n",
              "\n",
              "  .colab-df-spinner {\n",
              "    border: 2px solid var(--fill-color);\n",
              "    border-color: transparent;\n",
              "    border-bottom-color: var(--fill-color);\n",
              "    animation:\n",
              "      spin 1s steps(1) infinite;\n",
              "  }\n",
              "\n",
              "  @keyframes spin {\n",
              "    0% {\n",
              "      border-color: transparent;\n",
              "      border-bottom-color: var(--fill-color);\n",
              "      border-left-color: var(--fill-color);\n",
              "    }\n",
              "    20% {\n",
              "      border-color: transparent;\n",
              "      border-left-color: var(--fill-color);\n",
              "      border-top-color: var(--fill-color);\n",
              "    }\n",
              "    30% {\n",
              "      border-color: transparent;\n",
              "      border-left-color: var(--fill-color);\n",
              "      border-top-color: var(--fill-color);\n",
              "      border-right-color: var(--fill-color);\n",
              "    }\n",
              "    40% {\n",
              "      border-color: transparent;\n",
              "      border-right-color: var(--fill-color);\n",
              "      border-top-color: var(--fill-color);\n",
              "    }\n",
              "    60% {\n",
              "      border-color: transparent;\n",
              "      border-right-color: var(--fill-color);\n",
              "    }\n",
              "    80% {\n",
              "      border-color: transparent;\n",
              "      border-right-color: var(--fill-color);\n",
              "      border-bottom-color: var(--fill-color);\n",
              "    }\n",
              "    90% {\n",
              "      border-color: transparent;\n",
              "      border-bottom-color: var(--fill-color);\n",
              "    }\n",
              "  }\n",
              "</style>\n",
              "\n",
              "  <script>\n",
              "    async function quickchart(key) {\n",
              "      const quickchartButtonEl =\n",
              "        document.querySelector('#' + key + ' button');\n",
              "      quickchartButtonEl.disabled = true;  // To prevent multiple clicks.\n",
              "      quickchartButtonEl.classList.add('colab-df-spinner');\n",
              "      try {\n",
              "        const charts = await google.colab.kernel.invokeFunction(\n",
              "            'suggestCharts', [key], {});\n",
              "      } catch (error) {\n",
              "        console.error('Error during call to suggestCharts:', error);\n",
              "      }\n",
              "      quickchartButtonEl.classList.remove('colab-df-spinner');\n",
              "      quickchartButtonEl.classList.add('colab-df-quickchart-complete');\n",
              "    }\n",
              "    (() => {\n",
              "      let quickchartButtonEl =\n",
              "        document.querySelector('#df-d8f8359d-65d0-4905-a8a8-660075cb810d button');\n",
              "      quickchartButtonEl.style.display =\n",
              "        google.colab.kernel.accessAllowed ? 'block' : 'none';\n",
              "    })();\n",
              "  </script>\n",
              "</div>\n",
              "\n",
              "  <div id=\"id_16b1e9ef-89ce-4a9b-be55-f0d8b892be0a\">\n",
              "    <style>\n",
              "      .colab-df-generate {\n",
              "        background-color: #E8F0FE;\n",
              "        border: none;\n",
              "        border-radius: 50%;\n",
              "        cursor: pointer;\n",
              "        display: none;\n",
              "        fill: #1967D2;\n",
              "        height: 32px;\n",
              "        padding: 0 0 0 0;\n",
              "        width: 32px;\n",
              "      }\n",
              "\n",
              "      .colab-df-generate:hover {\n",
              "        background-color: #E2EBFA;\n",
              "        box-shadow: 0px 1px 2px rgba(60, 64, 67, 0.3), 0px 1px 3px 1px rgba(60, 64, 67, 0.15);\n",
              "        fill: #174EA6;\n",
              "      }\n",
              "\n",
              "      [theme=dark] .colab-df-generate {\n",
              "        background-color: #3B4455;\n",
              "        fill: #D2E3FC;\n",
              "      }\n",
              "\n",
              "      [theme=dark] .colab-df-generate:hover {\n",
              "        background-color: #434B5C;\n",
              "        box-shadow: 0px 1px 3px 1px rgba(0, 0, 0, 0.15);\n",
              "        filter: drop-shadow(0px 1px 2px rgba(0, 0, 0, 0.3));\n",
              "        fill: #FFFFFF;\n",
              "      }\n",
              "    </style>\n",
              "    <button class=\"colab-df-generate\" onclick=\"generateWithVariable('filtered_df')\"\n",
              "            title=\"Generate code using this dataframe.\"\n",
              "            style=\"display:none;\">\n",
              "\n",
              "  <svg xmlns=\"http://www.w3.org/2000/svg\" height=\"24px\"viewBox=\"0 0 24 24\"\n",
              "       width=\"24px\">\n",
              "    <path d=\"M7,19H8.4L18.45,9,17,7.55,7,17.6ZM5,21V16.75L18.45,3.32a2,2,0,0,1,2.83,0l1.4,1.43a1.91,1.91,0,0,1,.58,1.4,1.91,1.91,0,0,1-.58,1.4L9.25,21ZM18.45,9,17,7.55Zm-12,3A5.31,5.31,0,0,0,4.9,8.1,5.31,5.31,0,0,0,1,6.5,5.31,5.31,0,0,0,4.9,4.9,5.31,5.31,0,0,0,6.5,1,5.31,5.31,0,0,0,8.1,4.9,5.31,5.31,0,0,0,12,6.5,5.46,5.46,0,0,0,6.5,12Z\"/>\n",
              "  </svg>\n",
              "    </button>\n",
              "    <script>\n",
              "      (() => {\n",
              "      const buttonEl =\n",
              "        document.querySelector('#id_16b1e9ef-89ce-4a9b-be55-f0d8b892be0a button.colab-df-generate');\n",
              "      buttonEl.style.display =\n",
              "        google.colab.kernel.accessAllowed ? 'block' : 'none';\n",
              "\n",
              "      buttonEl.onclick = () => {\n",
              "        google.colab.notebook.generateWithVariable('filtered_df');\n",
              "      }\n",
              "      })();\n",
              "    </script>\n",
              "  </div>\n",
              "\n",
              "    </div>\n",
              "  </div>\n"
            ],
            "application/vnd.google.colaboratory.intrinsic+json": {
              "type": "dataframe",
              "variable_name": "filtered_df",
              "summary": "{\n  \"name\": \"filtered_df\",\n  \"rows\": 3,\n  \"fields\": [\n    {\n      \"column\": \"Country name\",\n      \"properties\": {\n        \"dtype\": \"string\",\n        \"num_unique_values\": 3,\n        \"samples\": [\n          \"Finland\",\n          \"Denmark\",\n          \"Iceland\"\n        ],\n        \"semantic_type\": \"\",\n        \"description\": \"\"\n      }\n    },\n    {\n      \"column\": \"score\",\n      \"properties\": {\n        \"dtype\": \"number\",\n        \"std\": 0.11179147254300416,\n        \"min\": 7.525,\n        \"max\": 7.741,\n        \"num_unique_values\": 3,\n        \"samples\": [\n          7.741,\n          7.583,\n          7.525\n        ],\n        \"semantic_type\": \"\",\n        \"description\": \"\"\n      }\n    },\n    {\n      \"column\": \"Log GDP per capita\",\n      \"properties\": {\n        \"dtype\": \"number\",\n        \"std\": 0.03212994449626902,\n        \"min\": 1.844,\n        \"max\": 1.908,\n        \"num_unique_values\": 3,\n        \"samples\": [\n          1.844,\n          1.908,\n          1.881\n        ],\n        \"semantic_type\": \"\",\n        \"description\": \"\"\n      }\n    },\n    {\n      \"column\": \"Social support\",\n      \"properties\": {\n        \"dtype\": \"number\",\n        \"std\": 0.04854207796678396,\n        \"min\": 1.52,\n        \"max\": 1.617,\n        \"num_unique_values\": 3,\n        \"samples\": [\n          1.572,\n          1.52,\n          1.617\n        ],\n        \"semantic_type\": \"\",\n        \"description\": \"\"\n      }\n    },\n    {\n      \"column\": \"Healthy life expectancy\",\n      \"properties\": {\n        \"dtype\": \"number\",\n        \"std\": 0.012288205727444518,\n        \"min\": 0.695,\n        \"max\": 0.718,\n        \"num_unique_values\": 3,\n        \"samples\": [\n          0.695,\n          0.699,\n          0.718\n        ],\n        \"semantic_type\": \"\",\n        \"description\": \"\"\n      }\n    },\n    {\n      \"column\": \"Freedom to make life choices\",\n      \"properties\": {\n        \"dtype\": \"number\",\n        \"std\": 0.022030282189144428,\n        \"min\": 0.819,\n        \"max\": 0.859,\n        \"num_unique_values\": 3,\n        \"samples\": [\n          0.859,\n          0.823,\n          0.819\n        ],\n        \"semantic_type\": \"\",\n        \"description\": \"\"\n      }\n    },\n    {\n      \"column\": \"Generosity\",\n      \"properties\": {\n        \"dtype\": \"number\",\n        \"std\": 0.05804595880277398,\n        \"min\": 0.142,\n        \"max\": 0.258,\n        \"num_unique_values\": 3,\n        \"samples\": [\n          0.142,\n          0.204,\n          0.258\n        ],\n        \"semantic_type\": \"\",\n        \"description\": \"\"\n      }\n    },\n    {\n      \"column\": \"Perceptions of corruption\",\n      \"properties\": {\n        \"dtype\": \"number\",\n        \"std\": 0.21073522091319558,\n        \"min\": 0.182,\n        \"max\": 0.548,\n        \"num_unique_values\": 3,\n        \"samples\": [\n          0.546,\n          0.548,\n          0.182\n        ],\n        \"semantic_type\": \"\",\n        \"description\": \"\"\n      }\n    },\n    {\n      \"column\": \"Dystopia + residual\",\n      \"properties\": {\n        \"dtype\": \"number\",\n        \"std\": 0.10800154319885116,\n        \"min\": 1.881,\n        \"max\": 2.082,\n        \"num_unique_values\": 3,\n        \"samples\": [\n          2.082,\n          1.881,\n          2.05\n        ],\n        \"semantic_type\": \"\",\n        \"description\": \"\"\n      }\n    }\n  ]\n}"
            }
          },
          "metadata": {},
          "execution_count": 17
        }
      ]
    },
    {
      "cell_type": "markdown",
      "source": [
        "2. For the filtered dataset - Sort the dataset by GDP per Capita in descending order and display the\n",
        "top 10 rows."
      ],
      "metadata": {
        "id": "fdrU5vYaxxEy"
      }
    },
    {
      "cell_type": "code",
      "source": [
        "#sort the filtered dataset in descending order\n",
        "sorted_df=filtered_df.sort_values(by='Log GDP per capita', ascending=False)\n",
        "print(\"10 countries with highest GDP after filtering:\")\n",
        "sorted_df.head(10)"
      ],
      "metadata": {
        "colab": {
          "base_uri": "https://localhost:8080/",
          "height": 161
        },
        "id": "sBYwVxG1kpeb",
        "outputId": "67fccc5b-164c-4f2e-9952-0bd72247f33c"
      },
      "execution_count": null,
      "outputs": [
        {
          "output_type": "stream",
          "name": "stdout",
          "text": [
            "10 countries with highest GDP after filtering:\n"
          ]
        },
        {
          "output_type": "execute_result",
          "data": {
            "text/plain": [
              "  Country name  score  Log GDP per capita  Social support  \\\n",
              "1      Denmark  7.583               1.908           1.520   \n",
              "2      Iceland  7.525               1.881           1.617   \n",
              "0      Finland  7.741               1.844           1.572   \n",
              "\n",
              "   Healthy life expectancy  Freedom to make life choices  Generosity  \\\n",
              "1                    0.699                         0.823       0.204   \n",
              "2                    0.718                         0.819       0.258   \n",
              "0                    0.695                         0.859       0.142   \n",
              "\n",
              "   Perceptions of corruption  Dystopia + residual  \n",
              "1                      0.548                1.881  \n",
              "2                      0.182                2.050  \n",
              "0                      0.546                2.082  "
            ],
            "text/html": [
              "\n",
              "  <div id=\"df-35e20866-0f60-4040-9b4d-ae35703435a4\" class=\"colab-df-container\">\n",
              "    <div>\n",
              "<style scoped>\n",
              "    .dataframe tbody tr th:only-of-type {\n",
              "        vertical-align: middle;\n",
              "    }\n",
              "\n",
              "    .dataframe tbody tr th {\n",
              "        vertical-align: top;\n",
              "    }\n",
              "\n",
              "    .dataframe thead th {\n",
              "        text-align: right;\n",
              "    }\n",
              "</style>\n",
              "<table border=\"1\" class=\"dataframe\">\n",
              "  <thead>\n",
              "    <tr style=\"text-align: right;\">\n",
              "      <th></th>\n",
              "      <th>Country name</th>\n",
              "      <th>score</th>\n",
              "      <th>Log GDP per capita</th>\n",
              "      <th>Social support</th>\n",
              "      <th>Healthy life expectancy</th>\n",
              "      <th>Freedom to make life choices</th>\n",
              "      <th>Generosity</th>\n",
              "      <th>Perceptions of corruption</th>\n",
              "      <th>Dystopia + residual</th>\n",
              "    </tr>\n",
              "  </thead>\n",
              "  <tbody>\n",
              "    <tr>\n",
              "      <th>1</th>\n",
              "      <td>Denmark</td>\n",
              "      <td>7.583</td>\n",
              "      <td>1.908</td>\n",
              "      <td>1.520</td>\n",
              "      <td>0.699</td>\n",
              "      <td>0.823</td>\n",
              "      <td>0.204</td>\n",
              "      <td>0.548</td>\n",
              "      <td>1.881</td>\n",
              "    </tr>\n",
              "    <tr>\n",
              "      <th>2</th>\n",
              "      <td>Iceland</td>\n",
              "      <td>7.525</td>\n",
              "      <td>1.881</td>\n",
              "      <td>1.617</td>\n",
              "      <td>0.718</td>\n",
              "      <td>0.819</td>\n",
              "      <td>0.258</td>\n",
              "      <td>0.182</td>\n",
              "      <td>2.050</td>\n",
              "    </tr>\n",
              "    <tr>\n",
              "      <th>0</th>\n",
              "      <td>Finland</td>\n",
              "      <td>7.741</td>\n",
              "      <td>1.844</td>\n",
              "      <td>1.572</td>\n",
              "      <td>0.695</td>\n",
              "      <td>0.859</td>\n",
              "      <td>0.142</td>\n",
              "      <td>0.546</td>\n",
              "      <td>2.082</td>\n",
              "    </tr>\n",
              "  </tbody>\n",
              "</table>\n",
              "</div>\n",
              "    <div class=\"colab-df-buttons\">\n",
              "\n",
              "  <div class=\"colab-df-container\">\n",
              "    <button class=\"colab-df-convert\" onclick=\"convertToInteractive('df-35e20866-0f60-4040-9b4d-ae35703435a4')\"\n",
              "            title=\"Convert this dataframe to an interactive table.\"\n",
              "            style=\"display:none;\">\n",
              "\n",
              "  <svg xmlns=\"http://www.w3.org/2000/svg\" height=\"24px\" viewBox=\"0 -960 960 960\">\n",
              "    <path d=\"M120-120v-720h720v720H120Zm60-500h600v-160H180v160Zm220 220h160v-160H400v160Zm0 220h160v-160H400v160ZM180-400h160v-160H180v160Zm440 0h160v-160H620v160ZM180-180h160v-160H180v160Zm440 0h160v-160H620v160Z\"/>\n",
              "  </svg>\n",
              "    </button>\n",
              "\n",
              "  <style>\n",
              "    .colab-df-container {\n",
              "      display:flex;\n",
              "      gap: 12px;\n",
              "    }\n",
              "\n",
              "    .colab-df-convert {\n",
              "      background-color: #E8F0FE;\n",
              "      border: none;\n",
              "      border-radius: 50%;\n",
              "      cursor: pointer;\n",
              "      display: none;\n",
              "      fill: #1967D2;\n",
              "      height: 32px;\n",
              "      padding: 0 0 0 0;\n",
              "      width: 32px;\n",
              "    }\n",
              "\n",
              "    .colab-df-convert:hover {\n",
              "      background-color: #E2EBFA;\n",
              "      box-shadow: 0px 1px 2px rgba(60, 64, 67, 0.3), 0px 1px 3px 1px rgba(60, 64, 67, 0.15);\n",
              "      fill: #174EA6;\n",
              "    }\n",
              "\n",
              "    .colab-df-buttons div {\n",
              "      margin-bottom: 4px;\n",
              "    }\n",
              "\n",
              "    [theme=dark] .colab-df-convert {\n",
              "      background-color: #3B4455;\n",
              "      fill: #D2E3FC;\n",
              "    }\n",
              "\n",
              "    [theme=dark] .colab-df-convert:hover {\n",
              "      background-color: #434B5C;\n",
              "      box-shadow: 0px 1px 3px 1px rgba(0, 0, 0, 0.15);\n",
              "      filter: drop-shadow(0px 1px 2px rgba(0, 0, 0, 0.3));\n",
              "      fill: #FFFFFF;\n",
              "    }\n",
              "  </style>\n",
              "\n",
              "    <script>\n",
              "      const buttonEl =\n",
              "        document.querySelector('#df-35e20866-0f60-4040-9b4d-ae35703435a4 button.colab-df-convert');\n",
              "      buttonEl.style.display =\n",
              "        google.colab.kernel.accessAllowed ? 'block' : 'none';\n",
              "\n",
              "      async function convertToInteractive(key) {\n",
              "        const element = document.querySelector('#df-35e20866-0f60-4040-9b4d-ae35703435a4');\n",
              "        const dataTable =\n",
              "          await google.colab.kernel.invokeFunction('convertToInteractive',\n",
              "                                                    [key], {});\n",
              "        if (!dataTable) return;\n",
              "\n",
              "        const docLinkHtml = 'Like what you see? Visit the ' +\n",
              "          '<a target=\"_blank\" href=https://colab.research.google.com/notebooks/data_table.ipynb>data table notebook</a>'\n",
              "          + ' to learn more about interactive tables.';\n",
              "        element.innerHTML = '';\n",
              "        dataTable['output_type'] = 'display_data';\n",
              "        await google.colab.output.renderOutput(dataTable, element);\n",
              "        const docLink = document.createElement('div');\n",
              "        docLink.innerHTML = docLinkHtml;\n",
              "        element.appendChild(docLink);\n",
              "      }\n",
              "    </script>\n",
              "  </div>\n",
              "\n",
              "\n",
              "<div id=\"df-c2a105ce-9a5b-4fcb-9a8c-80d9784abd06\">\n",
              "  <button class=\"colab-df-quickchart\" onclick=\"quickchart('df-c2a105ce-9a5b-4fcb-9a8c-80d9784abd06')\"\n",
              "            title=\"Suggest charts\"\n",
              "            style=\"display:none;\">\n",
              "\n",
              "<svg xmlns=\"http://www.w3.org/2000/svg\" height=\"24px\"viewBox=\"0 0 24 24\"\n",
              "     width=\"24px\">\n",
              "    <g>\n",
              "        <path d=\"M19 3H5c-1.1 0-2 .9-2 2v14c0 1.1.9 2 2 2h14c1.1 0 2-.9 2-2V5c0-1.1-.9-2-2-2zM9 17H7v-7h2v7zm4 0h-2V7h2v10zm4 0h-2v-4h2v4z\"/>\n",
              "    </g>\n",
              "</svg>\n",
              "  </button>\n",
              "\n",
              "<style>\n",
              "  .colab-df-quickchart {\n",
              "      --bg-color: #E8F0FE;\n",
              "      --fill-color: #1967D2;\n",
              "      --hover-bg-color: #E2EBFA;\n",
              "      --hover-fill-color: #174EA6;\n",
              "      --disabled-fill-color: #AAA;\n",
              "      --disabled-bg-color: #DDD;\n",
              "  }\n",
              "\n",
              "  [theme=dark] .colab-df-quickchart {\n",
              "      --bg-color: #3B4455;\n",
              "      --fill-color: #D2E3FC;\n",
              "      --hover-bg-color: #434B5C;\n",
              "      --hover-fill-color: #FFFFFF;\n",
              "      --disabled-bg-color: #3B4455;\n",
              "      --disabled-fill-color: #666;\n",
              "  }\n",
              "\n",
              "  .colab-df-quickchart {\n",
              "    background-color: var(--bg-color);\n",
              "    border: none;\n",
              "    border-radius: 50%;\n",
              "    cursor: pointer;\n",
              "    display: none;\n",
              "    fill: var(--fill-color);\n",
              "    height: 32px;\n",
              "    padding: 0;\n",
              "    width: 32px;\n",
              "  }\n",
              "\n",
              "  .colab-df-quickchart:hover {\n",
              "    background-color: var(--hover-bg-color);\n",
              "    box-shadow: 0 1px 2px rgba(60, 64, 67, 0.3), 0 1px 3px 1px rgba(60, 64, 67, 0.15);\n",
              "    fill: var(--button-hover-fill-color);\n",
              "  }\n",
              "\n",
              "  .colab-df-quickchart-complete:disabled,\n",
              "  .colab-df-quickchart-complete:disabled:hover {\n",
              "    background-color: var(--disabled-bg-color);\n",
              "    fill: var(--disabled-fill-color);\n",
              "    box-shadow: none;\n",
              "  }\n",
              "\n",
              "  .colab-df-spinner {\n",
              "    border: 2px solid var(--fill-color);\n",
              "    border-color: transparent;\n",
              "    border-bottom-color: var(--fill-color);\n",
              "    animation:\n",
              "      spin 1s steps(1) infinite;\n",
              "  }\n",
              "\n",
              "  @keyframes spin {\n",
              "    0% {\n",
              "      border-color: transparent;\n",
              "      border-bottom-color: var(--fill-color);\n",
              "      border-left-color: var(--fill-color);\n",
              "    }\n",
              "    20% {\n",
              "      border-color: transparent;\n",
              "      border-left-color: var(--fill-color);\n",
              "      border-top-color: var(--fill-color);\n",
              "    }\n",
              "    30% {\n",
              "      border-color: transparent;\n",
              "      border-left-color: var(--fill-color);\n",
              "      border-top-color: var(--fill-color);\n",
              "      border-right-color: var(--fill-color);\n",
              "    }\n",
              "    40% {\n",
              "      border-color: transparent;\n",
              "      border-right-color: var(--fill-color);\n",
              "      border-top-color: var(--fill-color);\n",
              "    }\n",
              "    60% {\n",
              "      border-color: transparent;\n",
              "      border-right-color: var(--fill-color);\n",
              "    }\n",
              "    80% {\n",
              "      border-color: transparent;\n",
              "      border-right-color: var(--fill-color);\n",
              "      border-bottom-color: var(--fill-color);\n",
              "    }\n",
              "    90% {\n",
              "      border-color: transparent;\n",
              "      border-bottom-color: var(--fill-color);\n",
              "    }\n",
              "  }\n",
              "</style>\n",
              "\n",
              "  <script>\n",
              "    async function quickchart(key) {\n",
              "      const quickchartButtonEl =\n",
              "        document.querySelector('#' + key + ' button');\n",
              "      quickchartButtonEl.disabled = true;  // To prevent multiple clicks.\n",
              "      quickchartButtonEl.classList.add('colab-df-spinner');\n",
              "      try {\n",
              "        const charts = await google.colab.kernel.invokeFunction(\n",
              "            'suggestCharts', [key], {});\n",
              "      } catch (error) {\n",
              "        console.error('Error during call to suggestCharts:', error);\n",
              "      }\n",
              "      quickchartButtonEl.classList.remove('colab-df-spinner');\n",
              "      quickchartButtonEl.classList.add('colab-df-quickchart-complete');\n",
              "    }\n",
              "    (() => {\n",
              "      let quickchartButtonEl =\n",
              "        document.querySelector('#df-c2a105ce-9a5b-4fcb-9a8c-80d9784abd06 button');\n",
              "      quickchartButtonEl.style.display =\n",
              "        google.colab.kernel.accessAllowed ? 'block' : 'none';\n",
              "    })();\n",
              "  </script>\n",
              "</div>\n",
              "\n",
              "    </div>\n",
              "  </div>\n"
            ],
            "application/vnd.google.colaboratory.intrinsic+json": {
              "type": "dataframe",
              "variable_name": "sorted_df",
              "summary": "{\n  \"name\": \"sorted_df\",\n  \"rows\": 3,\n  \"fields\": [\n    {\n      \"column\": \"Country name\",\n      \"properties\": {\n        \"dtype\": \"string\",\n        \"num_unique_values\": 3,\n        \"samples\": [\n          \"Denmark\",\n          \"Iceland\",\n          \"Finland\"\n        ],\n        \"semantic_type\": \"\",\n        \"description\": \"\"\n      }\n    },\n    {\n      \"column\": \"score\",\n      \"properties\": {\n        \"dtype\": \"number\",\n        \"std\": 0.11179147254300416,\n        \"min\": 7.525,\n        \"max\": 7.741,\n        \"num_unique_values\": 3,\n        \"samples\": [\n          7.583,\n          7.525,\n          7.741\n        ],\n        \"semantic_type\": \"\",\n        \"description\": \"\"\n      }\n    },\n    {\n      \"column\": \"Log GDP per capita\",\n      \"properties\": {\n        \"dtype\": \"number\",\n        \"std\": 0.03212994449626902,\n        \"min\": 1.844,\n        \"max\": 1.908,\n        \"num_unique_values\": 3,\n        \"samples\": [\n          1.908,\n          1.881,\n          1.844\n        ],\n        \"semantic_type\": \"\",\n        \"description\": \"\"\n      }\n    },\n    {\n      \"column\": \"Social support\",\n      \"properties\": {\n        \"dtype\": \"number\",\n        \"std\": 0.048542077966783954,\n        \"min\": 1.52,\n        \"max\": 1.617,\n        \"num_unique_values\": 3,\n        \"samples\": [\n          1.52,\n          1.617,\n          1.572\n        ],\n        \"semantic_type\": \"\",\n        \"description\": \"\"\n      }\n    },\n    {\n      \"column\": \"Healthy life expectancy\",\n      \"properties\": {\n        \"dtype\": \"number\",\n        \"std\": 0.012288205727444518,\n        \"min\": 0.695,\n        \"max\": 0.718,\n        \"num_unique_values\": 3,\n        \"samples\": [\n          0.699,\n          0.718,\n          0.695\n        ],\n        \"semantic_type\": \"\",\n        \"description\": \"\"\n      }\n    },\n    {\n      \"column\": \"Freedom to make life choices\",\n      \"properties\": {\n        \"dtype\": \"number\",\n        \"std\": 0.022030282189144428,\n        \"min\": 0.819,\n        \"max\": 0.859,\n        \"num_unique_values\": 3,\n        \"samples\": [\n          0.823,\n          0.819,\n          0.859\n        ],\n        \"semantic_type\": \"\",\n        \"description\": \"\"\n      }\n    },\n    {\n      \"column\": \"Generosity\",\n      \"properties\": {\n        \"dtype\": \"number\",\n        \"std\": 0.05804595880277398,\n        \"min\": 0.142,\n        \"max\": 0.258,\n        \"num_unique_values\": 3,\n        \"samples\": [\n          0.204,\n          0.258,\n          0.142\n        ],\n        \"semantic_type\": \"\",\n        \"description\": \"\"\n      }\n    },\n    {\n      \"column\": \"Perceptions of corruption\",\n      \"properties\": {\n        \"dtype\": \"number\",\n        \"std\": 0.21073522091319558,\n        \"min\": 0.182,\n        \"max\": 0.548,\n        \"num_unique_values\": 3,\n        \"samples\": [\n          0.548,\n          0.182,\n          0.546\n        ],\n        \"semantic_type\": \"\",\n        \"description\": \"\"\n      }\n    },\n    {\n      \"column\": \"Dystopia + residual\",\n      \"properties\": {\n        \"dtype\": \"number\",\n        \"std\": 0.10800154319885116,\n        \"min\": 1.881,\n        \"max\": 2.082,\n        \"num_unique_values\": 3,\n        \"samples\": [\n          1.881,\n          2.05,\n          2.082\n        ],\n        \"semantic_type\": \"\",\n        \"description\": \"\"\n      }\n    }\n  ]\n}"
            }
          },
          "metadata": {},
          "execution_count": 13
        }
      ]
    },
    {
      "cell_type": "markdown",
      "source": [
        "Adding New Columns:\n",
        "1. Create a new column called Happiness Category that categorizes countries into three categories\n",
        "based on their Score:\n",
        "\n",
        "  Low − (Score < 4)\n",
        "\n",
        "  Medium − (4 ≤ Score ≤ 6)\n",
        "\n",
        "  High − (Score > 6)"
      ],
      "metadata": {
        "id": "G7TFpL3Wm5z_"
      }
    },
    {
      "cell_type": "code",
      "source": [
        "#define a function\n",
        "def categories(score):\n",
        "  '''\n",
        "  Categorize happiness based on the scores\n",
        "  '''\n",
        "  if score < 4:\n",
        "      return 'Low'\n",
        "  elif 4 <= score <= 6:\n",
        "      return 'Medium'\n",
        "  else:\n",
        "      return 'High'\n",
        "\n",
        "#create a new column to categorize the happiness\n",
        "df['Happiness Category'] = df['score'].apply(categories)\n",
        "print(\"Updated dataset with Happiness Category: \")\n",
        "df.head(10)"
      ],
      "metadata": {
        "colab": {
          "base_uri": "https://localhost:8080/",
          "height": 452
        },
        "id": "G8oqe_l_mkDl",
        "outputId": "a9eb825c-3f85-4a07-95cd-531fbc22c004"
      },
      "execution_count": null,
      "outputs": [
        {
          "output_type": "stream",
          "name": "stdout",
          "text": [
            "Updated dataset with Happiness Category: \n"
          ]
        },
        {
          "output_type": "execute_result",
          "data": {
            "text/plain": [
              "  Country name  score  Log GDP per capita  Social support  \\\n",
              "0      Finland  7.741               1.844           1.572   \n",
              "1      Denmark  7.583               1.908           1.520   \n",
              "2      Iceland  7.525               1.881           1.617   \n",
              "3       Sweden  7.344               1.878           1.501   \n",
              "4       Israel  7.341               1.803           1.513   \n",
              "5  Netherlands  7.319               1.901           1.462   \n",
              "6       Norway  7.302               1.952           1.517   \n",
              "7   Luxembourg  7.122               2.141           1.355   \n",
              "8  Switzerland  7.060               1.970           1.425   \n",
              "9    Australia  7.057               1.854           1.461   \n",
              "\n",
              "   Healthy life expectancy  Freedom to make life choices  Generosity  \\\n",
              "0                    0.695                         0.859       0.142   \n",
              "1                    0.699                         0.823       0.204   \n",
              "2                    0.718                         0.819       0.258   \n",
              "3                    0.724                         0.838       0.221   \n",
              "4                    0.740                         0.641       0.153   \n",
              "5                    0.706                         0.725       0.247   \n",
              "6                    0.704                         0.835       0.224   \n",
              "7                    0.708                         0.801       0.146   \n",
              "8                    0.747                         0.759       0.173   \n",
              "9                    0.692                         0.756       0.225   \n",
              "\n",
              "   Perceptions of corruption  Dystopia + residual Happiness Category  \n",
              "0                      0.546                2.082               High  \n",
              "1                      0.548                1.881               High  \n",
              "2                      0.182                2.050               High  \n",
              "3                      0.524                1.658               High  \n",
              "4                      0.193                2.298               High  \n",
              "5                      0.372                1.906               High  \n",
              "6                      0.484                1.586               High  \n",
              "7                      0.432                1.540               High  \n",
              "8                      0.498                1.488               High  \n",
              "9                      0.323                1.745               High  "
            ],
            "text/html": [
              "\n",
              "  <div id=\"df-a7fe09d5-9cce-46ad-b7ad-0b9137f5b406\" class=\"colab-df-container\">\n",
              "    <div>\n",
              "<style scoped>\n",
              "    .dataframe tbody tr th:only-of-type {\n",
              "        vertical-align: middle;\n",
              "    }\n",
              "\n",
              "    .dataframe tbody tr th {\n",
              "        vertical-align: top;\n",
              "    }\n",
              "\n",
              "    .dataframe thead th {\n",
              "        text-align: right;\n",
              "    }\n",
              "</style>\n",
              "<table border=\"1\" class=\"dataframe\">\n",
              "  <thead>\n",
              "    <tr style=\"text-align: right;\">\n",
              "      <th></th>\n",
              "      <th>Country name</th>\n",
              "      <th>score</th>\n",
              "      <th>Log GDP per capita</th>\n",
              "      <th>Social support</th>\n",
              "      <th>Healthy life expectancy</th>\n",
              "      <th>Freedom to make life choices</th>\n",
              "      <th>Generosity</th>\n",
              "      <th>Perceptions of corruption</th>\n",
              "      <th>Dystopia + residual</th>\n",
              "      <th>Happiness Category</th>\n",
              "    </tr>\n",
              "  </thead>\n",
              "  <tbody>\n",
              "    <tr>\n",
              "      <th>0</th>\n",
              "      <td>Finland</td>\n",
              "      <td>7.741</td>\n",
              "      <td>1.844</td>\n",
              "      <td>1.572</td>\n",
              "      <td>0.695</td>\n",
              "      <td>0.859</td>\n",
              "      <td>0.142</td>\n",
              "      <td>0.546</td>\n",
              "      <td>2.082</td>\n",
              "      <td>High</td>\n",
              "    </tr>\n",
              "    <tr>\n",
              "      <th>1</th>\n",
              "      <td>Denmark</td>\n",
              "      <td>7.583</td>\n",
              "      <td>1.908</td>\n",
              "      <td>1.520</td>\n",
              "      <td>0.699</td>\n",
              "      <td>0.823</td>\n",
              "      <td>0.204</td>\n",
              "      <td>0.548</td>\n",
              "      <td>1.881</td>\n",
              "      <td>High</td>\n",
              "    </tr>\n",
              "    <tr>\n",
              "      <th>2</th>\n",
              "      <td>Iceland</td>\n",
              "      <td>7.525</td>\n",
              "      <td>1.881</td>\n",
              "      <td>1.617</td>\n",
              "      <td>0.718</td>\n",
              "      <td>0.819</td>\n",
              "      <td>0.258</td>\n",
              "      <td>0.182</td>\n",
              "      <td>2.050</td>\n",
              "      <td>High</td>\n",
              "    </tr>\n",
              "    <tr>\n",
              "      <th>3</th>\n",
              "      <td>Sweden</td>\n",
              "      <td>7.344</td>\n",
              "      <td>1.878</td>\n",
              "      <td>1.501</td>\n",
              "      <td>0.724</td>\n",
              "      <td>0.838</td>\n",
              "      <td>0.221</td>\n",
              "      <td>0.524</td>\n",
              "      <td>1.658</td>\n",
              "      <td>High</td>\n",
              "    </tr>\n",
              "    <tr>\n",
              "      <th>4</th>\n",
              "      <td>Israel</td>\n",
              "      <td>7.341</td>\n",
              "      <td>1.803</td>\n",
              "      <td>1.513</td>\n",
              "      <td>0.740</td>\n",
              "      <td>0.641</td>\n",
              "      <td>0.153</td>\n",
              "      <td>0.193</td>\n",
              "      <td>2.298</td>\n",
              "      <td>High</td>\n",
              "    </tr>\n",
              "    <tr>\n",
              "      <th>5</th>\n",
              "      <td>Netherlands</td>\n",
              "      <td>7.319</td>\n",
              "      <td>1.901</td>\n",
              "      <td>1.462</td>\n",
              "      <td>0.706</td>\n",
              "      <td>0.725</td>\n",
              "      <td>0.247</td>\n",
              "      <td>0.372</td>\n",
              "      <td>1.906</td>\n",
              "      <td>High</td>\n",
              "    </tr>\n",
              "    <tr>\n",
              "      <th>6</th>\n",
              "      <td>Norway</td>\n",
              "      <td>7.302</td>\n",
              "      <td>1.952</td>\n",
              "      <td>1.517</td>\n",
              "      <td>0.704</td>\n",
              "      <td>0.835</td>\n",
              "      <td>0.224</td>\n",
              "      <td>0.484</td>\n",
              "      <td>1.586</td>\n",
              "      <td>High</td>\n",
              "    </tr>\n",
              "    <tr>\n",
              "      <th>7</th>\n",
              "      <td>Luxembourg</td>\n",
              "      <td>7.122</td>\n",
              "      <td>2.141</td>\n",
              "      <td>1.355</td>\n",
              "      <td>0.708</td>\n",
              "      <td>0.801</td>\n",
              "      <td>0.146</td>\n",
              "      <td>0.432</td>\n",
              "      <td>1.540</td>\n",
              "      <td>High</td>\n",
              "    </tr>\n",
              "    <tr>\n",
              "      <th>8</th>\n",
              "      <td>Switzerland</td>\n",
              "      <td>7.060</td>\n",
              "      <td>1.970</td>\n",
              "      <td>1.425</td>\n",
              "      <td>0.747</td>\n",
              "      <td>0.759</td>\n",
              "      <td>0.173</td>\n",
              "      <td>0.498</td>\n",
              "      <td>1.488</td>\n",
              "      <td>High</td>\n",
              "    </tr>\n",
              "    <tr>\n",
              "      <th>9</th>\n",
              "      <td>Australia</td>\n",
              "      <td>7.057</td>\n",
              "      <td>1.854</td>\n",
              "      <td>1.461</td>\n",
              "      <td>0.692</td>\n",
              "      <td>0.756</td>\n",
              "      <td>0.225</td>\n",
              "      <td>0.323</td>\n",
              "      <td>1.745</td>\n",
              "      <td>High</td>\n",
              "    </tr>\n",
              "  </tbody>\n",
              "</table>\n",
              "</div>\n",
              "    <div class=\"colab-df-buttons\">\n",
              "\n",
              "  <div class=\"colab-df-container\">\n",
              "    <button class=\"colab-df-convert\" onclick=\"convertToInteractive('df-a7fe09d5-9cce-46ad-b7ad-0b9137f5b406')\"\n",
              "            title=\"Convert this dataframe to an interactive table.\"\n",
              "            style=\"display:none;\">\n",
              "\n",
              "  <svg xmlns=\"http://www.w3.org/2000/svg\" height=\"24px\" viewBox=\"0 -960 960 960\">\n",
              "    <path d=\"M120-120v-720h720v720H120Zm60-500h600v-160H180v160Zm220 220h160v-160H400v160Zm0 220h160v-160H400v160ZM180-400h160v-160H180v160Zm440 0h160v-160H620v160ZM180-180h160v-160H180v160Zm440 0h160v-160H620v160Z\"/>\n",
              "  </svg>\n",
              "    </button>\n",
              "\n",
              "  <style>\n",
              "    .colab-df-container {\n",
              "      display:flex;\n",
              "      gap: 12px;\n",
              "    }\n",
              "\n",
              "    .colab-df-convert {\n",
              "      background-color: #E8F0FE;\n",
              "      border: none;\n",
              "      border-radius: 50%;\n",
              "      cursor: pointer;\n",
              "      display: none;\n",
              "      fill: #1967D2;\n",
              "      height: 32px;\n",
              "      padding: 0 0 0 0;\n",
              "      width: 32px;\n",
              "    }\n",
              "\n",
              "    .colab-df-convert:hover {\n",
              "      background-color: #E2EBFA;\n",
              "      box-shadow: 0px 1px 2px rgba(60, 64, 67, 0.3), 0px 1px 3px 1px rgba(60, 64, 67, 0.15);\n",
              "      fill: #174EA6;\n",
              "    }\n",
              "\n",
              "    .colab-df-buttons div {\n",
              "      margin-bottom: 4px;\n",
              "    }\n",
              "\n",
              "    [theme=dark] .colab-df-convert {\n",
              "      background-color: #3B4455;\n",
              "      fill: #D2E3FC;\n",
              "    }\n",
              "\n",
              "    [theme=dark] .colab-df-convert:hover {\n",
              "      background-color: #434B5C;\n",
              "      box-shadow: 0px 1px 3px 1px rgba(0, 0, 0, 0.15);\n",
              "      filter: drop-shadow(0px 1px 2px rgba(0, 0, 0, 0.3));\n",
              "      fill: #FFFFFF;\n",
              "    }\n",
              "  </style>\n",
              "\n",
              "    <script>\n",
              "      const buttonEl =\n",
              "        document.querySelector('#df-a7fe09d5-9cce-46ad-b7ad-0b9137f5b406 button.colab-df-convert');\n",
              "      buttonEl.style.display =\n",
              "        google.colab.kernel.accessAllowed ? 'block' : 'none';\n",
              "\n",
              "      async function convertToInteractive(key) {\n",
              "        const element = document.querySelector('#df-a7fe09d5-9cce-46ad-b7ad-0b9137f5b406');\n",
              "        const dataTable =\n",
              "          await google.colab.kernel.invokeFunction('convertToInteractive',\n",
              "                                                    [key], {});\n",
              "        if (!dataTable) return;\n",
              "\n",
              "        const docLinkHtml = 'Like what you see? Visit the ' +\n",
              "          '<a target=\"_blank\" href=https://colab.research.google.com/notebooks/data_table.ipynb>data table notebook</a>'\n",
              "          + ' to learn more about interactive tables.';\n",
              "        element.innerHTML = '';\n",
              "        dataTable['output_type'] = 'display_data';\n",
              "        await google.colab.output.renderOutput(dataTable, element);\n",
              "        const docLink = document.createElement('div');\n",
              "        docLink.innerHTML = docLinkHtml;\n",
              "        element.appendChild(docLink);\n",
              "      }\n",
              "    </script>\n",
              "  </div>\n",
              "\n",
              "\n",
              "<div id=\"df-f3bafd91-ca79-4ddd-b867-32988f9e68df\">\n",
              "  <button class=\"colab-df-quickchart\" onclick=\"quickchart('df-f3bafd91-ca79-4ddd-b867-32988f9e68df')\"\n",
              "            title=\"Suggest charts\"\n",
              "            style=\"display:none;\">\n",
              "\n",
              "<svg xmlns=\"http://www.w3.org/2000/svg\" height=\"24px\"viewBox=\"0 0 24 24\"\n",
              "     width=\"24px\">\n",
              "    <g>\n",
              "        <path d=\"M19 3H5c-1.1 0-2 .9-2 2v14c0 1.1.9 2 2 2h14c1.1 0 2-.9 2-2V5c0-1.1-.9-2-2-2zM9 17H7v-7h2v7zm4 0h-2V7h2v10zm4 0h-2v-4h2v4z\"/>\n",
              "    </g>\n",
              "</svg>\n",
              "  </button>\n",
              "\n",
              "<style>\n",
              "  .colab-df-quickchart {\n",
              "      --bg-color: #E8F0FE;\n",
              "      --fill-color: #1967D2;\n",
              "      --hover-bg-color: #E2EBFA;\n",
              "      --hover-fill-color: #174EA6;\n",
              "      --disabled-fill-color: #AAA;\n",
              "      --disabled-bg-color: #DDD;\n",
              "  }\n",
              "\n",
              "  [theme=dark] .colab-df-quickchart {\n",
              "      --bg-color: #3B4455;\n",
              "      --fill-color: #D2E3FC;\n",
              "      --hover-bg-color: #434B5C;\n",
              "      --hover-fill-color: #FFFFFF;\n",
              "      --disabled-bg-color: #3B4455;\n",
              "      --disabled-fill-color: #666;\n",
              "  }\n",
              "\n",
              "  .colab-df-quickchart {\n",
              "    background-color: var(--bg-color);\n",
              "    border: none;\n",
              "    border-radius: 50%;\n",
              "    cursor: pointer;\n",
              "    display: none;\n",
              "    fill: var(--fill-color);\n",
              "    height: 32px;\n",
              "    padding: 0;\n",
              "    width: 32px;\n",
              "  }\n",
              "\n",
              "  .colab-df-quickchart:hover {\n",
              "    background-color: var(--hover-bg-color);\n",
              "    box-shadow: 0 1px 2px rgba(60, 64, 67, 0.3), 0 1px 3px 1px rgba(60, 64, 67, 0.15);\n",
              "    fill: var(--button-hover-fill-color);\n",
              "  }\n",
              "\n",
              "  .colab-df-quickchart-complete:disabled,\n",
              "  .colab-df-quickchart-complete:disabled:hover {\n",
              "    background-color: var(--disabled-bg-color);\n",
              "    fill: var(--disabled-fill-color);\n",
              "    box-shadow: none;\n",
              "  }\n",
              "\n",
              "  .colab-df-spinner {\n",
              "    border: 2px solid var(--fill-color);\n",
              "    border-color: transparent;\n",
              "    border-bottom-color: var(--fill-color);\n",
              "    animation:\n",
              "      spin 1s steps(1) infinite;\n",
              "  }\n",
              "\n",
              "  @keyframes spin {\n",
              "    0% {\n",
              "      border-color: transparent;\n",
              "      border-bottom-color: var(--fill-color);\n",
              "      border-left-color: var(--fill-color);\n",
              "    }\n",
              "    20% {\n",
              "      border-color: transparent;\n",
              "      border-left-color: var(--fill-color);\n",
              "      border-top-color: var(--fill-color);\n",
              "    }\n",
              "    30% {\n",
              "      border-color: transparent;\n",
              "      border-left-color: var(--fill-color);\n",
              "      border-top-color: var(--fill-color);\n",
              "      border-right-color: var(--fill-color);\n",
              "    }\n",
              "    40% {\n",
              "      border-color: transparent;\n",
              "      border-right-color: var(--fill-color);\n",
              "      border-top-color: var(--fill-color);\n",
              "    }\n",
              "    60% {\n",
              "      border-color: transparent;\n",
              "      border-right-color: var(--fill-color);\n",
              "    }\n",
              "    80% {\n",
              "      border-color: transparent;\n",
              "      border-right-color: var(--fill-color);\n",
              "      border-bottom-color: var(--fill-color);\n",
              "    }\n",
              "    90% {\n",
              "      border-color: transparent;\n",
              "      border-bottom-color: var(--fill-color);\n",
              "    }\n",
              "  }\n",
              "</style>\n",
              "\n",
              "  <script>\n",
              "    async function quickchart(key) {\n",
              "      const quickchartButtonEl =\n",
              "        document.querySelector('#' + key + ' button');\n",
              "      quickchartButtonEl.disabled = true;  // To prevent multiple clicks.\n",
              "      quickchartButtonEl.classList.add('colab-df-spinner');\n",
              "      try {\n",
              "        const charts = await google.colab.kernel.invokeFunction(\n",
              "            'suggestCharts', [key], {});\n",
              "      } catch (error) {\n",
              "        console.error('Error during call to suggestCharts:', error);\n",
              "      }\n",
              "      quickchartButtonEl.classList.remove('colab-df-spinner');\n",
              "      quickchartButtonEl.classList.add('colab-df-quickchart-complete');\n",
              "    }\n",
              "    (() => {\n",
              "      let quickchartButtonEl =\n",
              "        document.querySelector('#df-f3bafd91-ca79-4ddd-b867-32988f9e68df button');\n",
              "      quickchartButtonEl.style.display =\n",
              "        google.colab.kernel.accessAllowed ? 'block' : 'none';\n",
              "    })();\n",
              "  </script>\n",
              "</div>\n",
              "\n",
              "    </div>\n",
              "  </div>\n"
            ],
            "application/vnd.google.colaboratory.intrinsic+json": {
              "type": "dataframe",
              "variable_name": "df",
              "summary": "{\n  \"name\": \"df\",\n  \"rows\": 143,\n  \"fields\": [\n    {\n      \"column\": \"Country name\",\n      \"properties\": {\n        \"dtype\": \"string\",\n        \"num_unique_values\": 143,\n        \"samples\": [\n          \"Myanmar\",\n          \"United Kingdom\",\n          \"South Africa\"\n        ],\n        \"semantic_type\": \"\",\n        \"description\": \"\"\n      }\n    },\n    {\n      \"column\": \"score\",\n      \"properties\": {\n        \"dtype\": \"number\",\n        \"std\": 1.1707165099442995,\n        \"min\": 1.721,\n        \"max\": 7.741,\n        \"num_unique_values\": 140,\n        \"samples\": [\n          4.505,\n          5.823,\n          6.491\n        ],\n        \"semantic_type\": \"\",\n        \"description\": \"\"\n      }\n    },\n    {\n      \"column\": \"Log GDP per capita\",\n      \"properties\": {\n        \"dtype\": \"number\",\n        \"std\": 0.4250983279640385,\n        \"min\": 0.0,\n        \"max\": 2.141,\n        \"num_unique_values\": 134,\n        \"samples\": [\n          0.617,\n          1.385,\n          0.75\n        ],\n        \"semantic_type\": \"\",\n        \"description\": \"\"\n      }\n    },\n    {\n      \"column\": \"Social support\",\n      \"properties\": {\n        \"dtype\": \"number\",\n        \"std\": 0.3333171290682772,\n        \"min\": 0.0,\n        \"max\": 1.617,\n        \"num_unique_values\": 124,\n        \"samples\": [\n          1.454,\n          1.394,\n          1.328\n        ],\n        \"semantic_type\": \"\",\n        \"description\": \"\"\n      }\n    },\n    {\n      \"column\": \"Healthy life expectancy\",\n      \"properties\": {\n        \"dtype\": \"number\",\n        \"std\": 0.16492252751586103,\n        \"min\": 0.0,\n        \"max\": 0.857,\n        \"num_unique_values\": 119,\n        \"samples\": [\n          0.662,\n          0.293,\n          0.74\n        ],\n        \"semantic_type\": \"\",\n        \"description\": \"\"\n      }\n    },\n    {\n      \"column\": \"Freedom to make life choices\",\n      \"properties\": {\n        \"dtype\": \"number\",\n        \"std\": 0.1624918135340067,\n        \"min\": 0.0,\n        \"max\": 0.863,\n        \"num_unique_values\": 122,\n        \"samples\": [\n          0.533,\n          0.681,\n          0.529\n        ],\n        \"semantic_type\": \"\",\n        \"description\": \"\"\n      }\n    },\n    {\n      \"column\": \"Generosity\",\n      \"properties\": {\n        \"dtype\": \"number\",\n        \"std\": 0.07344129382188384,\n        \"min\": 0.0,\n        \"max\": 0.401,\n        \"num_unique_values\": 110,\n        \"samples\": [\n          0.141,\n          0.226,\n          0.153\n        ],\n        \"semantic_type\": \"\",\n        \"description\": \"\"\n      }\n    },\n    {\n      \"column\": \"Perceptions of corruption\",\n      \"properties\": {\n        \"dtype\": \"number\",\n        \"std\": 0.12623818231503292,\n        \"min\": 0.0,\n        \"max\": 0.575,\n        \"num_unique_values\": 112,\n        \"samples\": [\n          0.078,\n          0.118,\n          0.193\n        ],\n        \"semantic_type\": \"\",\n        \"description\": \"\"\n      }\n    },\n    {\n      \"column\": \"Dystopia + residual\",\n      \"properties\": {\n        \"dtype\": \"number\",\n        \"std\": 0.5374585074928712,\n        \"min\": -0.073,\n        \"max\": 2.998,\n        \"num_unique_values\": 134,\n        \"samples\": [\n          0.066,\n          1.795,\n          2.122\n        ],\n        \"semantic_type\": \"\",\n        \"description\": \"\"\n      }\n    },\n    {\n      \"column\": \"Happiness Category\",\n      \"properties\": {\n        \"dtype\": \"category\",\n        \"num_unique_values\": 3,\n        \"samples\": [\n          \"High\",\n          \"Medium\",\n          \"Low\"\n        ],\n        \"semantic_type\": \"\",\n        \"description\": \"\"\n      }\n    }\n  ]\n}"
            }
          },
          "metadata": {},
          "execution_count": 134
        }
      ]
    },
    {
      "cell_type": "markdown",
      "source": [
        "2. Data Visualizations:\n",
        "\n",
        "  • Bar Plot: Plot the top 10 happiest countries by Score using a bar chart.\n",
        "\n",
        "\n",
        "\n",
        "\n",
        "\n"
      ],
      "metadata": {
        "id": "dbJjZvgSn0-L"
      }
    },
    {
      "cell_type": "code",
      "source": [
        "#sort the top 10 happiest countries in descending order\n",
        "top_10_happiest = df.sort_values('score', ascending=False).head(10)\n",
        "\n",
        "#plot a bar graph for the top 10 happiest countries\n",
        "plt.figure(figsize=(12, 6))\n",
        "sns.barplot(x='Country name', y='score', data=top_10_happiest)\n",
        "plt.xlabel('Country')\n",
        "plt.ylabel('Happiness Score')\n",
        "plt.title('Top 10 Happiest Countries')\n",
        "plt.show()"
      ],
      "metadata": {
        "colab": {
          "base_uri": "https://localhost:8080/",
          "height": 390
        },
        "id": "lBfE6MTRnZqW",
        "outputId": "585413ac-ccdb-4e03-8525-fb7c48644b62"
      },
      "execution_count": null,
      "outputs": [
        {
          "output_type": "display_data",
          "data": {
            "text/plain": [
              "<Figure size 1200x600 with 1 Axes>"
            ],
            "image/png": "[encoded data removed]"
          },
          "metadata": {}
        }
      ]
    },
    {
      "cell_type": "markdown",
      "source": [
        "  • Line Plot: Plot the top 10 unhappiest countries by Score using a Line chart.\n",
        "  "
      ],
      "metadata": {
        "id": "P1jXAcG0zPDW"
      }
    },
    {
      "cell_type": "code",
      "source": [
        "#calculate the top 10 unhappiest countries\n",
        "top_10_unhappiest = df.sort_values('score').head(10)\n",
        "\n",
        "#plot a line plot for the top 10 unhappiest countries\n",
        "plt.figure(figsize=(10, 6))\n",
        "sns.lineplot(x='Country name', y='score', data=top_10_unhappiest, marker='o')\n",
        "plt.xlabel('Country')\n",
        "plt.ylabel('Happiness Score')\n",
        "plt.title('Top 10 Unhappiest Countries')\n",
        "plt.tight_layout()\n",
        "plt.show()"
      ],
      "metadata": {
        "colab": {
          "base_uri": "https://localhost:8080/",
          "height": 607
        },
        "id": "z2rVKD3zpigd",
        "outputId": "9597adbd-6da0-4da1-b75a-3c350fdb139a"
      },
      "execution_count": null,
      "outputs": [
        {
          "output_type": "display_data",
          "data": {
            "text/plain": [
              "<Figure size 1000x600 with 1 Axes>"
            ],
            "image/png": "[encoded data removed]"
          },
          "metadata": {}
        }
      ]
    },
    {
      "cell_type": "markdown",
      "source": [
        "  • Plot a histogram for the Score column to show its distribution and also interpret.\n",
        "\n"
      ],
      "metadata": {
        "id": "-Iera3ktzU2X"
      }
    },
    {
      "cell_type": "code",
      "source": [
        "#plot a histogram for the score column\n",
        "plt.figure(figsize=(10, 6))\n",
        "sns.histplot(df['score'], bins=10, kde=True, color='lightblue', edgecolor='black')\n",
        "plt.title('Distribution of Scores')\n",
        "plt.xlabel('Happiness Score')\n",
        "plt.ylabel('Frequency')\n",
        "plt.show()"
      ],
      "metadata": {
        "colab": {
          "base_uri": "https://localhost:8080/",
          "height": 564
        },
        "id": "vpNQDqBAp2_J",
        "outputId": "cbb85239-a220-4de4-ec5d-9564b4bb238b"
      },
      "execution_count": null,
      "outputs": [
        {
          "output_type": "display_data",
          "data": {
            "text/plain": [
              "<Figure size 1000x600 with 1 Axes>"
            ],
            "image/png": "[encoded data removed]"
          },
          "metadata": {}
        }
      ]
    },
    {
      "cell_type": "markdown",
      "source": [
        "#Interpretation of the histogram for the score column:\n",
        "\n",
        "The histogram represents the distribution of happiness scores for all the countries in the dataset.\n",
        "\n",
        "*   The x-axis represents the happiness scores for the countries.\n",
        "*   The y-axis represents the number of countries that fall within each score range.\n",
        "\n",
        "The histogram is skewed to the right which indicates that there are more countries with lower happiness scores and fewer countries with higher happiness score.\n",
        "\n",
        "\n"
      ],
      "metadata": {
        "id": "mHOBYbFUrHzy"
      }
    },
    {
      "cell_type": "markdown",
      "source": [
        " • Scatter Plot: Plot a scatter plot between GDP per Capita and Score to visualize their relationship."
      ],
      "metadata": {
        "id": "Z-vwAziZzbGO"
      }
    },
    {
      "cell_type": "code",
      "source": [
        "#plot a scatter plot between GDP and Score\n",
        "plt.figure(figsize=(10, 6))\n",
        "sns.scatterplot(x='Log GDP per capita', y='score', data=df)\n",
        "plt.xlabel('Log GDP per Capita')\n",
        "plt.ylabel('Happiness Score')\n",
        "plt.title('Relationship between GDP per Capita and Happiness Score')\n",
        "plt.show()"
      ],
      "metadata": {
        "colab": {
          "base_uri": "https://localhost:8080/",
          "height": 564
        },
        "id": "JhLORgIVslZY",
        "outputId": "fbd6da9b-e8ae-4476-fa36-f04b5f63b4e7"
      },
      "execution_count": null,
      "outputs": [
        {
          "output_type": "display_data",
          "data": {
            "text/plain": [
              "<Figure size 1000x600 with 1 Axes>"
            ],
            "image/png": "[encoded data removed]"
          },
          "metadata": {}
        }
      ]
    },
    {
      "cell_type": "markdown",
      "source": [
        "3.2 Problem - 2 - Some Advance Data Exploration Task:\n",
        "\n",
        "Task - 1 - Setup Task - Preparing the South-Asia Dataset:\n",
        "\n",
        "1. Define the countries in South Asia with a list for example:\n",
        "\n",
        "  south_asian_countries = [\"Afghanistan\", \"Bangladesh\", \"Bhutan\", \"India\",\"Maldives\", \"Nepal\", \"Pakistan\", \"Srilanka\"]\n",
        "\n",
        "2. Use the list from step - 1 to filtered the dataset {i.e. filtered out matching dataset from list.}\n",
        "\n",
        "3. Save the filtered dataframe as separate CSV files for future use."
      ],
      "metadata": {
        "id": "SYrmzme3tLaV"
      }
    },
    {
      "cell_type": "code",
      "source": [
        "#define the south asian countries\n",
        "south_asian_countries=[\"Afghanistan\", \"Bangladesh\", \"Bhutan\", \"India\",\"Maldives\", \"Nepal\", \"Pakistan\", \"Srilanka\"]\n",
        "#filtering the south asian countries from the dataset\n",
        "south_asian_data=df[df['Country name'].isin(south_asian_countries)]\n",
        "#save the filtered data to a seperate csv file\n",
        "south_asian_data.to_csv('south_asian_countries_data.csv', index=False)\n",
        "#print the south asian countries\n",
        "print(\"Filtered South Asian countries:\")\n",
        "south_asian_data.head()"
      ],
      "metadata": {
        "colab": {
          "base_uri": "https://localhost:8080/",
          "height": 223
        },
        "id": "Jr2DZdz1tLIB",
        "outputId": "676f8007-5b41-4a99-b701-13ab9a916921"
      },
      "execution_count": null,
      "outputs": [
        {
          "output_type": "stream",
          "name": "stdout",
          "text": [
            "Filtered South Asian countries:\n"
          ]
        },
        {
          "output_type": "execute_result",
          "data": {
            "text/plain": [
              "    Country name  score  Log GDP per capita  Social support  \\\n",
              "92         Nepal  5.158               0.965           0.990   \n",
              "107     Pakistan  4.657               1.069           0.600   \n",
              "125        India  4.054               1.166           0.653   \n",
              "128   Bangladesh  3.886               1.122           0.249   \n",
              "142  Afghanistan  1.721               0.628           0.000   \n",
              "\n",
              "     Healthy life expectancy  Freedom to make life choices  Generosity  \\\n",
              "92                     0.443                         0.653       0.209   \n",
              "107                    0.321                         0.542       0.144   \n",
              "125                    0.417                         0.767       0.174   \n",
              "128                    0.513                         0.775       0.140   \n",
              "142                    0.242                         0.000       0.091   \n",
              "\n",
              "     Perceptions of corruption  Dystopia + residual  \n",
              "92                       0.115                1.783  \n",
              "107                      0.074                1.907  \n",
              "125                      0.122                0.756  \n",
              "128                      0.167                0.919  \n",
              "142                      0.088                0.672  "
            ],
            "text/html": [
              "\n",
              "  <div id=\"df-5070e25a-c3e6-490f-90fd-8f26fedccf3e\" class=\"colab-df-container\">\n",
              "    <div>\n",
              "<style scoped>\n",
              "    .dataframe tbody tr th:only-of-type {\n",
              "        vertical-align: middle;\n",
              "    }\n",
              "\n",
              "    .dataframe tbody tr th {\n",
              "        vertical-align: top;\n",
              "    }\n",
              "\n",
              "    .dataframe thead th {\n",
              "        text-align: right;\n",
              "    }\n",
              "</style>\n",
              "<table border=\"1\" class=\"dataframe\">\n",
              "  <thead>\n",
              "    <tr style=\"text-align: right;\">\n",
              "      <th></th>\n",
              "      <th>Country name</th>\n",
              "      <th>score</th>\n",
              "      <th>Log GDP per capita</th>\n",
              "      <th>Social support</th>\n",
              "      <th>Healthy life expectancy</th>\n",
              "      <th>Freedom to make life choices</th>\n",
              "      <th>Generosity</th>\n",
              "      <th>Perceptions of corruption</th>\n",
              "      <th>Dystopia + residual</th>\n",
              "    </tr>\n",
              "  </thead>\n",
              "  <tbody>\n",
              "    <tr>\n",
              "      <th>92</th>\n",
              "      <td>Nepal</td>\n",
              "      <td>5.158</td>\n",
              "      <td>0.965</td>\n",
              "      <td>0.990</td>\n",
              "      <td>0.443</td>\n",
              "      <td>0.653</td>\n",
              "      <td>0.209</td>\n",
              "      <td>0.115</td>\n",
              "      <td>1.783</td>\n",
              "    </tr>\n",
              "    <tr>\n",
              "      <th>107</th>\n",
              "      <td>Pakistan</td>\n",
              "      <td>4.657</td>\n",
              "      <td>1.069</td>\n",
              "      <td>0.600</td>\n",
              "      <td>0.321</td>\n",
              "      <td>0.542</td>\n",
              "      <td>0.144</td>\n",
              "      <td>0.074</td>\n",
              "      <td>1.907</td>\n",
              "    </tr>\n",
              "    <tr>\n",
              "      <th>125</th>\n",
              "      <td>India</td>\n",
              "      <td>4.054</td>\n",
              "      <td>1.166</td>\n",
              "      <td>0.653</td>\n",
              "      <td>0.417</td>\n",
              "      <td>0.767</td>\n",
              "      <td>0.174</td>\n",
              "      <td>0.122</td>\n",
              "      <td>0.756</td>\n",
              "    </tr>\n",
              "    <tr>\n",
              "      <th>128</th>\n",
              "      <td>Bangladesh</td>\n",
              "      <td>3.886</td>\n",
              "      <td>1.122</td>\n",
              "      <td>0.249</td>\n",
              "      <td>0.513</td>\n",
              "      <td>0.775</td>\n",
              "      <td>0.140</td>\n",
              "      <td>0.167</td>\n",
              "      <td>0.919</td>\n",
              "    </tr>\n",
              "    <tr>\n",
              "      <th>142</th>\n",
              "      <td>Afghanistan</td>\n",
              "      <td>1.721</td>\n",
              "      <td>0.628</td>\n",
              "      <td>0.000</td>\n",
              "      <td>0.242</td>\n",
              "      <td>0.000</td>\n",
              "      <td>0.091</td>\n",
              "      <td>0.088</td>\n",
              "      <td>0.672</td>\n",
              "    </tr>\n",
              "  </tbody>\n",
              "</table>\n",
              "</div>\n",
              "    <div class=\"colab-df-buttons\">\n",
              "\n",
              "  <div class=\"colab-df-container\">\n",
              "    <button class=\"colab-df-convert\" onclick=\"convertToInteractive('df-5070e25a-c3e6-490f-90fd-8f26fedccf3e')\"\n",
              "            title=\"Convert this dataframe to an interactive table.\"\n",
              "            style=\"display:none;\">\n",
              "\n",
              "  <svg xmlns=\"http://www.w3.org/2000/svg\" height=\"24px\" viewBox=\"0 -960 960 960\">\n",
              "    <path d=\"M120-120v-720h720v720H120Zm60-500h600v-160H180v160Zm220 220h160v-160H400v160Zm0 220h160v-160H400v160ZM180-400h160v-160H180v160Zm440 0h160v-160H620v160ZM180-180h160v-160H180v160Zm440 0h160v-160H620v160Z\"/>\n",
              "  </svg>\n",
              "    </button>\n",
              "\n",
              "  <style>\n",
              "    .colab-df-container {\n",
              "      display:flex;\n",
              "      gap: 12px;\n",
              "    }\n",
              "\n",
              "    .colab-df-convert {\n",
              "      background-color: #E8F0FE;\n",
              "      border: none;\n",
              "      border-radius: 50%;\n",
              "      cursor: pointer;\n",
              "      display: none;\n",
              "      fill: #1967D2;\n",
              "      height: 32px;\n",
              "      padding: 0 0 0 0;\n",
              "      width: 32px;\n",
              "    }\n",
              "\n",
              "    .colab-df-convert:hover {\n",
              "      background-color: #E2EBFA;\n",
              "      box-shadow: 0px 1px 2px rgba(60, 64, 67, 0.3), 0px 1px 3px 1px rgba(60, 64, 67, 0.15);\n",
              "      fill: #174EA6;\n",
              "    }\n",
              "\n",
              "    .colab-df-buttons div {\n",
              "      margin-bottom: 4px;\n",
              "    }\n",
              "\n",
              "    [theme=dark] .colab-df-convert {\n",
              "      background-color: #3B4455;\n",
              "      fill: #D2E3FC;\n",
              "    }\n",
              "\n",
              "    [theme=dark] .colab-df-convert:hover {\n",
              "      background-color: #434B5C;\n",
              "      box-shadow: 0px 1px 3px 1px rgba(0, 0, 0, 0.15);\n",
              "      filter: drop-shadow(0px 1px 2px rgba(0, 0, 0, 0.3));\n",
              "      fill: #FFFFFF;\n",
              "    }\n",
              "  </style>\n",
              "\n",
              "    <script>\n",
              "      const buttonEl =\n",
              "        document.querySelector('#df-5070e25a-c3e6-490f-90fd-8f26fedccf3e button.colab-df-convert');\n",
              "      buttonEl.style.display =\n",
              "        google.colab.kernel.accessAllowed ? 'block' : 'none';\n",
              "\n",
              "      async function convertToInteractive(key) {\n",
              "        const element = document.querySelector('#df-5070e25a-c3e6-490f-90fd-8f26fedccf3e');\n",
              "        const dataTable =\n",
              "          await google.colab.kernel.invokeFunction('convertToInteractive',\n",
              "                                                    [key], {});\n",
              "        if (!dataTable) return;\n",
              "\n",
              "        const docLinkHtml = 'Like what you see? Visit the ' +\n",
              "          '<a target=\"_blank\" href=https://colab.research.google.com/notebooks/data_table.ipynb>data table notebook</a>'\n",
              "          + ' to learn more about interactive tables.';\n",
              "        element.innerHTML = '';\n",
              "        dataTable['output_type'] = 'display_data';\n",
              "        await google.colab.output.renderOutput(dataTable, element);\n",
              "        const docLink = document.createElement('div');\n",
              "        docLink.innerHTML = docLinkHtml;\n",
              "        element.appendChild(docLink);\n",
              "      }\n",
              "    </script>\n",
              "  </div>\n",
              "\n",
              "\n",
              "<div id=\"df-f7ffc2e6-9629-4aa7-9f61-64f4e83d066f\">\n",
              "  <button class=\"colab-df-quickchart\" onclick=\"quickchart('df-f7ffc2e6-9629-4aa7-9f61-64f4e83d066f')\"\n",
              "            title=\"Suggest charts\"\n",
              "            style=\"display:none;\">\n",
              "\n",
              "<svg xmlns=\"http://www.w3.org/2000/svg\" height=\"24px\"viewBox=\"0 0 24 24\"\n",
              "     width=\"24px\">\n",
              "    <g>\n",
              "        <path d=\"M19 3H5c-1.1 0-2 .9-2 2v14c0 1.1.9 2 2 2h14c1.1 0 2-.9 2-2V5c0-1.1-.9-2-2-2zM9 17H7v-7h2v7zm4 0h-2V7h2v10zm4 0h-2v-4h2v4z\"/>\n",
              "    </g>\n",
              "</svg>\n",
              "  </button>\n",
              "\n",
              "<style>\n",
              "  .colab-df-quickchart {\n",
              "      --bg-color: #E8F0FE;\n",
              "      --fill-color: #1967D2;\n",
              "      --hover-bg-color: #E2EBFA;\n",
              "      --hover-fill-color: #174EA6;\n",
              "      --disabled-fill-color: #AAA;\n",
              "      --disabled-bg-color: #DDD;\n",
              "  }\n",
              "\n",
              "  [theme=dark] .colab-df-quickchart {\n",
              "      --bg-color: #3B4455;\n",
              "      --fill-color: #D2E3FC;\n",
              "      --hover-bg-color: #434B5C;\n",
              "      --hover-fill-color: #FFFFFF;\n",
              "      --disabled-bg-color: #3B4455;\n",
              "      --disabled-fill-color: #666;\n",
              "  }\n",
              "\n",
              "  .colab-df-quickchart {\n",
              "    background-color: var(--bg-color);\n",
              "    border: none;\n",
              "    border-radius: 50%;\n",
              "    cursor: pointer;\n",
              "    display: none;\n",
              "    fill: var(--fill-color);\n",
              "    height: 32px;\n",
              "    padding: 0;\n",
              "    width: 32px;\n",
              "  }\n",
              "\n",
              "  .colab-df-quickchart:hover {\n",
              "    background-color: var(--hover-bg-color);\n",
              "    box-shadow: 0 1px 2px rgba(60, 64, 67, 0.3), 0 1px 3px 1px rgba(60, 64, 67, 0.15);\n",
              "    fill: var(--button-hover-fill-color);\n",
              "  }\n",
              "\n",
              "  .colab-df-quickchart-complete:disabled,\n",
              "  .colab-df-quickchart-complete:disabled:hover {\n",
              "    background-color: var(--disabled-bg-color);\n",
              "    fill: var(--disabled-fill-color);\n",
              "    box-shadow: none;\n",
              "  }\n",
              "\n",
              "  .colab-df-spinner {\n",
              "    border: 2px solid var(--fill-color);\n",
              "    border-color: transparent;\n",
              "    border-bottom-color: var(--fill-color);\n",
              "    animation:\n",
              "      spin 1s steps(1) infinite;\n",
              "  }\n",
              "\n",
              "  @keyframes spin {\n",
              "    0% {\n",
              "      border-color: transparent;\n",
              "      border-bottom-color: var(--fill-color);\n",
              "      border-left-color: var(--fill-color);\n",
              "    }\n",
              "    20% {\n",
              "      border-color: transparent;\n",
              "      border-left-color: var(--fill-color);\n",
              "      border-top-color: var(--fill-color);\n",
              "    }\n",
              "    30% {\n",
              "      border-color: transparent;\n",
              "      border-left-color: var(--fill-color);\n",
              "      border-top-color: var(--fill-color);\n",
              "      border-right-color: var(--fill-color);\n",
              "    }\n",
              "    40% {\n",
              "      border-color: transparent;\n",
              "      border-right-color: var(--fill-color);\n",
              "      border-top-color: var(--fill-color);\n",
              "    }\n",
              "    60% {\n",
              "      border-color: transparent;\n",
              "      border-right-color: var(--fill-color);\n",
              "    }\n",
              "    80% {\n",
              "      border-color: transparent;\n",
              "      border-right-color: var(--fill-color);\n",
              "      border-bottom-color: var(--fill-color);\n",
              "    }\n",
              "    90% {\n",
              "      border-color: transparent;\n",
              "      border-bottom-color: var(--fill-color);\n",
              "    }\n",
              "  }\n",
              "</style>\n",
              "\n",
              "  <script>\n",
              "    async function quickchart(key) {\n",
              "      const quickchartButtonEl =\n",
              "        document.querySelector('#' + key + ' button');\n",
              "      quickchartButtonEl.disabled = true;  // To prevent multiple clicks.\n",
              "      quickchartButtonEl.classList.add('colab-df-spinner');\n",
              "      try {\n",
              "        const charts = await google.colab.kernel.invokeFunction(\n",
              "            'suggestCharts', [key], {});\n",
              "      } catch (error) {\n",
              "        console.error('Error during call to suggestCharts:', error);\n",
              "      }\n",
              "      quickchartButtonEl.classList.remove('colab-df-spinner');\n",
              "      quickchartButtonEl.classList.add('colab-df-quickchart-complete');\n",
              "    }\n",
              "    (() => {\n",
              "      let quickchartButtonEl =\n",
              "        document.querySelector('#df-f7ffc2e6-9629-4aa7-9f61-64f4e83d066f button');\n",
              "      quickchartButtonEl.style.display =\n",
              "        google.colab.kernel.accessAllowed ? 'block' : 'none';\n",
              "    })();\n",
              "  </script>\n",
              "</div>\n",
              "\n",
              "    </div>\n",
              "  </div>\n"
            ],
            "application/vnd.google.colaboratory.intrinsic+json": {
              "type": "dataframe",
              "variable_name": "south_asian_data",
              "summary": "{\n  \"name\": \"south_asian_data\",\n  \"rows\": 5,\n  \"fields\": [\n    {\n      \"column\": \"Country name\",\n      \"properties\": {\n        \"dtype\": \"string\",\n        \"num_unique_values\": 5,\n        \"samples\": [\n          \"Pakistan\",\n          \"Afghanistan\",\n          \"India\"\n        ],\n        \"semantic_type\": \"\",\n        \"description\": \"\"\n      }\n    },\n    {\n      \"column\": \"score\",\n      \"properties\": {\n        \"dtype\": \"number\",\n        \"std\": 1.3160025455902433,\n        \"min\": 1.721,\n        \"max\": 5.158,\n        \"num_unique_values\": 5,\n        \"samples\": [\n          4.657,\n          1.721,\n          4.054\n        ],\n        \"semantic_type\": \"\",\n        \"description\": \"\"\n      }\n    },\n    {\n      \"column\": \"Log GDP per capita\",\n      \"properties\": {\n        \"dtype\": \"number\",\n        \"std\": 0.2158182105384066,\n        \"min\": 0.628,\n        \"max\": 1.166,\n        \"num_unique_values\": 5,\n        \"samples\": [\n          1.069,\n          0.628,\n          1.166\n        ],\n        \"semantic_type\": \"\",\n        \"description\": \"\"\n      }\n    },\n    {\n      \"column\": \"Social support\",\n      \"properties\": {\n        \"dtype\": \"number\",\n        \"std\": 0.38291552593228706,\n        \"min\": 0.0,\n        \"max\": 0.99,\n        \"num_unique_values\": 5,\n        \"samples\": [\n          0.6,\n          0.0,\n          0.653\n        ],\n        \"semantic_type\": \"\",\n        \"description\": \"\"\n      }\n    },\n    {\n      \"column\": \"Healthy life expectancy\",\n      \"properties\": {\n        \"dtype\": \"number\",\n        \"std\": 0.10641052579514867,\n        \"min\": 0.242,\n        \"max\": 0.513,\n        \"num_unique_values\": 5,\n        \"samples\": [\n          0.321,\n          0.242,\n          0.417\n        ],\n        \"semantic_type\": \"\",\n        \"description\": \"\"\n      }\n    },\n    {\n      \"column\": \"Freedom to make life choices\",\n      \"properties\": {\n        \"dtype\": \"number\",\n        \"std\": 0.32048915738289807,\n        \"min\": 0.0,\n        \"max\": 0.775,\n        \"num_unique_values\": 5,\n        \"samples\": [\n          0.542,\n          0.0,\n          0.767\n        ],\n        \"semantic_type\": \"\",\n        \"description\": \"\"\n      }\n    },\n    {\n      \"column\": \"Generosity\",\n      \"properties\": {\n        \"dtype\": \"number\",\n        \"std\": 0.043764140571934,\n        \"min\": 0.091,\n        \"max\": 0.209,\n        \"num_unique_values\": 5,\n        \"samples\": [\n          0.144,\n          0.091,\n          0.174\n        ],\n        \"semantic_type\": \"\",\n        \"description\": \"\"\n      }\n    },\n    {\n      \"column\": \"Perceptions of corruption\",\n      \"properties\": {\n        \"dtype\": \"number\",\n        \"std\": 0.0358706007755655,\n        \"min\": 0.074,\n        \"max\": 0.167,\n        \"num_unique_values\": 5,\n        \"samples\": [\n          0.074,\n          0.088,\n          0.122\n        ],\n        \"semantic_type\": \"\",\n        \"description\": \"\"\n      }\n    },\n    {\n      \"column\": \"Dystopia + residual\",\n      \"properties\": {\n        \"dtype\": \"number\",\n        \"std\": 0.5904119748108095,\n        \"min\": 0.672,\n        \"max\": 1.907,\n        \"num_unique_values\": 5,\n        \"samples\": [\n          1.907,\n          0.672,\n          0.756\n        ],\n        \"semantic_type\": \"\",\n        \"description\": \"\"\n      }\n    }\n  ]\n}"
            }
          },
          "metadata": {},
          "execution_count": 27
        }
      ]
    },
    {
      "cell_type": "markdown",
      "source": [
        "Task - 2 - Composite Score Ranking:\n",
        "\n",
        "Tasks:\n",
        "1. Using the SouthAsia DataFrame, create a new column called Composite Score that combines the following metrics:\n",
        "\n",
        "  Composite Score = 0.40 × GDP per Capita + 0.30 × Social Support + 0.30 × Healthy Life Expectancy\n",
        "  \n",
        "2. Rank the South Asian countries based on the Composite Score in descending order.\n",
        "\n"
      ],
      "metadata": {
        "id": "AeovtKeduo5h"
      }
    },
    {
      "cell_type": "code",
      "source": [
        "#read the csv file\n",
        "south_asian_df=pd.read_csv('south_asian_countries_data.csv')\n",
        "#calculate the composite score\n",
        "composite_score = 0.40 * south_asian_df['Log GDP per capita'] + 0.30 * south_asian_df['Social support'] + 0.30 * south_asian_df['Healthy life expectancy']\n",
        "#creates a new column in the dataset\n",
        "south_asian_df['Composite Score'] = composite_score\n",
        "#rank the south asian countries based on the composite score\n",
        "south_asian_data_sorted = south_asian_df.sort_values(by='Composite Score', ascending=False)\n",
        "#display the south asian countries based on composite score\n",
        "print(\"South Asian countries ranked based on Composite Score:\")\n",
        "south_asian_data_sorted.head()"
      ],
      "metadata": {
        "colab": {
          "base_uri": "https://localhost:8080/",
          "height": 241
        },
        "id": "vdPGsK8Kynqb",
        "outputId": "4319531a-80c9-4027-b03f-77596da3f582"
      },
      "execution_count": null,
      "outputs": [
        {
          "output_type": "stream",
          "name": "stdout",
          "text": [
            "South Asian countries ranked based on Composite Score:\n"
          ]
        },
        {
          "output_type": "execute_result",
          "data": {
            "text/plain": [
              "  Country name  score  Log GDP per capita  Social support  \\\n",
              "0        Nepal  5.158               0.965           0.990   \n",
              "2        India  4.054               1.166           0.653   \n",
              "1     Pakistan  4.657               1.069           0.600   \n",
              "3   Bangladesh  3.886               1.122           0.249   \n",
              "4  Afghanistan  1.721               0.628           0.000   \n",
              "\n",
              "   Healthy life expectancy  Freedom to make life choices  Generosity  \\\n",
              "0                    0.443                         0.653       0.209   \n",
              "2                    0.417                         0.767       0.174   \n",
              "1                    0.321                         0.542       0.144   \n",
              "3                    0.513                         0.775       0.140   \n",
              "4                    0.242                         0.000       0.091   \n",
              "\n",
              "   Perceptions of corruption  Dystopia + residual  Composite Score  \n",
              "0                      0.115                1.783           0.8159  \n",
              "2                      0.122                0.756           0.7874  \n",
              "1                      0.074                1.907           0.7039  \n",
              "3                      0.167                0.919           0.6774  \n",
              "4                      0.088                0.672           0.3238  "
            ],
            "text/html": [
              "\n",
              "  <div id=\"df-df3b1fd0-b701-4591-ad1f-f650a51b439a\" class=\"colab-df-container\">\n",
              "    <div>\n",
              "<style scoped>\n",
              "    .dataframe tbody tr th:only-of-type {\n",
              "        vertical-align: middle;\n",
              "    }\n",
              "\n",
              "    .dataframe tbody tr th {\n",
              "        vertical-align: top;\n",
              "    }\n",
              "\n",
              "    .dataframe thead th {\n",
              "        text-align: right;\n",
              "    }\n",
              "</style>\n",
              "<table border=\"1\" class=\"dataframe\">\n",
              "  <thead>\n",
              "    <tr style=\"text-align: right;\">\n",
              "      <th></th>\n",
              "      <th>Country name</th>\n",
              "      <th>score</th>\n",
              "      <th>Log GDP per capita</th>\n",
              "      <th>Social support</th>\n",
              "      <th>Healthy life expectancy</th>\n",
              "      <th>Freedom to make life choices</th>\n",
              "      <th>Generosity</th>\n",
              "      <th>Perceptions of corruption</th>\n",
              "      <th>Dystopia + residual</th>\n",
              "      <th>Composite Score</th>\n",
              "    </tr>\n",
              "  </thead>\n",
              "  <tbody>\n",
              "    <tr>\n",
              "      <th>0</th>\n",
              "      <td>Nepal</td>\n",
              "      <td>5.158</td>\n",
              "      <td>0.965</td>\n",
              "      <td>0.990</td>\n",
              "      <td>0.443</td>\n",
              "      <td>0.653</td>\n",
              "      <td>0.209</td>\n",
              "      <td>0.115</td>\n",
              "      <td>1.783</td>\n",
              "      <td>0.8159</td>\n",
              "    </tr>\n",
              "    <tr>\n",
              "      <th>2</th>\n",
              "      <td>India</td>\n",
              "      <td>4.054</td>\n",
              "      <td>1.166</td>\n",
              "      <td>0.653</td>\n",
              "      <td>0.417</td>\n",
              "      <td>0.767</td>\n",
              "      <td>0.174</td>\n",
              "      <td>0.122</td>\n",
              "      <td>0.756</td>\n",
              "      <td>0.7874</td>\n",
              "    </tr>\n",
              "    <tr>\n",
              "      <th>1</th>\n",
              "      <td>Pakistan</td>\n",
              "      <td>4.657</td>\n",
              "      <td>1.069</td>\n",
              "      <td>0.600</td>\n",
              "      <td>0.321</td>\n",
              "      <td>0.542</td>\n",
              "      <td>0.144</td>\n",
              "      <td>0.074</td>\n",
              "      <td>1.907</td>\n",
              "      <td>0.7039</td>\n",
              "    </tr>\n",
              "    <tr>\n",
              "      <th>3</th>\n",
              "      <td>Bangladesh</td>\n",
              "      <td>3.886</td>\n",
              "      <td>1.122</td>\n",
              "      <td>0.249</td>\n",
              "      <td>0.513</td>\n",
              "      <td>0.775</td>\n",
              "      <td>0.140</td>\n",
              "      <td>0.167</td>\n",
              "      <td>0.919</td>\n",
              "      <td>0.6774</td>\n",
              "    </tr>\n",
              "    <tr>\n",
              "      <th>4</th>\n",
              "      <td>Afghanistan</td>\n",
              "      <td>1.721</td>\n",
              "      <td>0.628</td>\n",
              "      <td>0.000</td>\n",
              "      <td>0.242</td>\n",
              "      <td>0.000</td>\n",
              "      <td>0.091</td>\n",
              "      <td>0.088</td>\n",
              "      <td>0.672</td>\n",
              "      <td>0.3238</td>\n",
              "    </tr>\n",
              "  </tbody>\n",
              "</table>\n",
              "</div>\n",
              "    <div class=\"colab-df-buttons\">\n",
              "\n",
              "  <div class=\"colab-df-container\">\n",
              "    <button class=\"colab-df-convert\" onclick=\"convertToInteractive('df-df3b1fd0-b701-4591-ad1f-f650a51b439a')\"\n",
              "            title=\"Convert this dataframe to an interactive table.\"\n",
              "            style=\"display:none;\">\n",
              "\n",
              "  <svg xmlns=\"http://www.w3.org/2000/svg\" height=\"24px\" viewBox=\"0 -960 960 960\">\n",
              "    <path d=\"M120-120v-720h720v720H120Zm60-500h600v-160H180v160Zm220 220h160v-160H400v160Zm0 220h160v-160H400v160ZM180-400h160v-160H180v160Zm440 0h160v-160H620v160ZM180-180h160v-160H180v160Zm440 0h160v-160H620v160Z\"/>\n",
              "  </svg>\n",
              "    </button>\n",
              "\n",
              "  <style>\n",
              "    .colab-df-container {\n",
              "      display:flex;\n",
              "      gap: 12px;\n",
              "    }\n",
              "\n",
              "    .colab-df-convert {\n",
              "      background-color: #E8F0FE;\n",
              "      border: none;\n",
              "      border-radius: 50%;\n",
              "      cursor: pointer;\n",
              "      display: none;\n",
              "      fill: #1967D2;\n",
              "      height: 32px;\n",
              "      padding: 0 0 0 0;\n",
              "      width: 32px;\n",
              "    }\n",
              "\n",
              "    .colab-df-convert:hover {\n",
              "      background-color: #E2EBFA;\n",
              "      box-shadow: 0px 1px 2px rgba(60, 64, 67, 0.3), 0px 1px 3px 1px rgba(60, 64, 67, 0.15);\n",
              "      fill: #174EA6;\n",
              "    }\n",
              "\n",
              "    .colab-df-buttons div {\n",
              "      margin-bottom: 4px;\n",
              "    }\n",
              "\n",
              "    [theme=dark] .colab-df-convert {\n",
              "      background-color: #3B4455;\n",
              "      fill: #D2E3FC;\n",
              "    }\n",
              "\n",
              "    [theme=dark] .colab-df-convert:hover {\n",
              "      background-color: #434B5C;\n",
              "      box-shadow: 0px 1px 3px 1px rgba(0, 0, 0, 0.15);\n",
              "      filter: drop-shadow(0px 1px 2px rgba(0, 0, 0, 0.3));\n",
              "      fill: #FFFFFF;\n",
              "    }\n",
              "  </style>\n",
              "\n",
              "    <script>\n",
              "      const buttonEl =\n",
              "        document.querySelector('#df-df3b1fd0-b701-4591-ad1f-f650a51b439a button.colab-df-convert');\n",
              "      buttonEl.style.display =\n",
              "        google.colab.kernel.accessAllowed ? 'block' : 'none';\n",
              "\n",
              "      async function convertToInteractive(key) {\n",
              "        const element = document.querySelector('#df-df3b1fd0-b701-4591-ad1f-f650a51b439a');\n",
              "        const dataTable =\n",
              "          await google.colab.kernel.invokeFunction('convertToInteractive',\n",
              "                                                    [key], {});\n",
              "        if (!dataTable) return;\n",
              "\n",
              "        const docLinkHtml = 'Like what you see? Visit the ' +\n",
              "          '<a target=\"_blank\" href=https://colab.research.google.com/notebooks/data_table.ipynb>data table notebook</a>'\n",
              "          + ' to learn more about interactive tables.';\n",
              "        element.innerHTML = '';\n",
              "        dataTable['output_type'] = 'display_data';\n",
              "        await google.colab.output.renderOutput(dataTable, element);\n",
              "        const docLink = document.createElement('div');\n",
              "        docLink.innerHTML = docLinkHtml;\n",
              "        element.appendChild(docLink);\n",
              "      }\n",
              "    </script>\n",
              "  </div>\n",
              "\n",
              "\n",
              "<div id=\"df-0a4b7bf6-def7-4d73-8b50-209d90fca834\">\n",
              "  <button class=\"colab-df-quickchart\" onclick=\"quickchart('df-0a4b7bf6-def7-4d73-8b50-209d90fca834')\"\n",
              "            title=\"Suggest charts\"\n",
              "            style=\"display:none;\">\n",
              "\n",
              "<svg xmlns=\"http://www.w3.org/2000/svg\" height=\"24px\"viewBox=\"0 0 24 24\"\n",
              "     width=\"24px\">\n",
              "    <g>\n",
              "        <path d=\"M19 3H5c-1.1 0-2 .9-2 2v14c0 1.1.9 2 2 2h14c1.1 0 2-.9 2-2V5c0-1.1-.9-2-2-2zM9 17H7v-7h2v7zm4 0h-2V7h2v10zm4 0h-2v-4h2v4z\"/>\n",
              "    </g>\n",
              "</svg>\n",
              "  </button>\n",
              "\n",
              "<style>\n",
              "  .colab-df-quickchart {\n",
              "      --bg-color: #E8F0FE;\n",
              "      --fill-color: #1967D2;\n",
              "      --hover-bg-color: #E2EBFA;\n",
              "      --hover-fill-color: #174EA6;\n",
              "      --disabled-fill-color: #AAA;\n",
              "      --disabled-bg-color: #DDD;\n",
              "  }\n",
              "\n",
              "  [theme=dark] .colab-df-quickchart {\n",
              "      --bg-color: #3B4455;\n",
              "      --fill-color: #D2E3FC;\n",
              "      --hover-bg-color: #434B5C;\n",
              "      --hover-fill-color: #FFFFFF;\n",
              "      --disabled-bg-color: #3B4455;\n",
              "      --disabled-fill-color: #666;\n",
              "  }\n",
              "\n",
              "  .colab-df-quickchart {\n",
              "    background-color: var(--bg-color);\n",
              "    border: none;\n",
              "    border-radius: 50%;\n",
              "    cursor: pointer;\n",
              "    display: none;\n",
              "    fill: var(--fill-color);\n",
              "    height: 32px;\n",
              "    padding: 0;\n",
              "    width: 32px;\n",
              "  }\n",
              "\n",
              "  .colab-df-quickchart:hover {\n",
              "    background-color: var(--hover-bg-color);\n",
              "    box-shadow: 0 1px 2px rgba(60, 64, 67, 0.3), 0 1px 3px 1px rgba(60, 64, 67, 0.15);\n",
              "    fill: var(--button-hover-fill-color);\n",
              "  }\n",
              "\n",
              "  .colab-df-quickchart-complete:disabled,\n",
              "  .colab-df-quickchart-complete:disabled:hover {\n",
              "    background-color: var(--disabled-bg-color);\n",
              "    fill: var(--disabled-fill-color);\n",
              "    box-shadow: none;\n",
              "  }\n",
              "\n",
              "  .colab-df-spinner {\n",
              "    border: 2px solid var(--fill-color);\n",
              "    border-color: transparent;\n",
              "    border-bottom-color: var(--fill-color);\n",
              "    animation:\n",
              "      spin 1s steps(1) infinite;\n",
              "  }\n",
              "\n",
              "  @keyframes spin {\n",
              "    0% {\n",
              "      border-color: transparent;\n",
              "      border-bottom-color: var(--fill-color);\n",
              "      border-left-color: var(--fill-color);\n",
              "    }\n",
              "    20% {\n",
              "      border-color: transparent;\n",
              "      border-left-color: var(--fill-color);\n",
              "      border-top-color: var(--fill-color);\n",
              "    }\n",
              "    30% {\n",
              "      border-color: transparent;\n",
              "      border-left-color: var(--fill-color);\n",
              "      border-top-color: var(--fill-color);\n",
              "      border-right-color: var(--fill-color);\n",
              "    }\n",
              "    40% {\n",
              "      border-color: transparent;\n",
              "      border-right-color: var(--fill-color);\n",
              "      border-top-color: var(--fill-color);\n",
              "    }\n",
              "    60% {\n",
              "      border-color: transparent;\n",
              "      border-right-color: var(--fill-color);\n",
              "    }\n",
              "    80% {\n",
              "      border-color: transparent;\n",
              "      border-right-color: var(--fill-color);\n",
              "      border-bottom-color: var(--fill-color);\n",
              "    }\n",
              "    90% {\n",
              "      border-color: transparent;\n",
              "      border-bottom-color: var(--fill-color);\n",
              "    }\n",
              "  }\n",
              "</style>\n",
              "\n",
              "  <script>\n",
              "    async function quickchart(key) {\n",
              "      const quickchartButtonEl =\n",
              "        document.querySelector('#' + key + ' button');\n",
              "      quickchartButtonEl.disabled = true;  // To prevent multiple clicks.\n",
              "      quickchartButtonEl.classList.add('colab-df-spinner');\n",
              "      try {\n",
              "        const charts = await google.colab.kernel.invokeFunction(\n",
              "            'suggestCharts', [key], {});\n",
              "      } catch (error) {\n",
              "        console.error('Error during call to suggestCharts:', error);\n",
              "      }\n",
              "      quickchartButtonEl.classList.remove('colab-df-spinner');\n",
              "      quickchartButtonEl.classList.add('colab-df-quickchart-complete');\n",
              "    }\n",
              "    (() => {\n",
              "      let quickchartButtonEl =\n",
              "        document.querySelector('#df-0a4b7bf6-def7-4d73-8b50-209d90fca834 button');\n",
              "      quickchartButtonEl.style.display =\n",
              "        google.colab.kernel.accessAllowed ? 'block' : 'none';\n",
              "    })();\n",
              "  </script>\n",
              "</div>\n",
              "\n",
              "    </div>\n",
              "  </div>\n"
            ],
            "application/vnd.google.colaboratory.intrinsic+json": {
              "type": "dataframe",
              "variable_name": "south_asian_data_sorted",
              "summary": "{\n  \"name\": \"south_asian_data_sorted\",\n  \"rows\": 5,\n  \"fields\": [\n    {\n      \"column\": \"Country name\",\n      \"properties\": {\n        \"dtype\": \"string\",\n        \"num_unique_values\": 5,\n        \"samples\": [\n          \"India\",\n          \"Afghanistan\",\n          \"Pakistan\"\n        ],\n        \"semantic_type\": \"\",\n        \"description\": \"\"\n      }\n    },\n    {\n      \"column\": \"score\",\n      \"properties\": {\n        \"dtype\": \"number\",\n        \"std\": 1.3160025455902433,\n        \"min\": 1.721,\n        \"max\": 5.158,\n        \"num_unique_values\": 5,\n        \"samples\": [\n          4.054,\n          1.721,\n          4.657\n        ],\n        \"semantic_type\": \"\",\n        \"description\": \"\"\n      }\n    },\n    {\n      \"column\": \"Log GDP per capita\",\n      \"properties\": {\n        \"dtype\": \"number\",\n        \"std\": 0.2158182105384066,\n        \"min\": 0.628,\n        \"max\": 1.166,\n        \"num_unique_values\": 5,\n        \"samples\": [\n          1.166,\n          0.628,\n          1.069\n        ],\n        \"semantic_type\": \"\",\n        \"description\": \"\"\n      }\n    },\n    {\n      \"column\": \"Social support\",\n      \"properties\": {\n        \"dtype\": \"number\",\n        \"std\": 0.38291552593228706,\n        \"min\": 0.0,\n        \"max\": 0.99,\n        \"num_unique_values\": 5,\n        \"samples\": [\n          0.653,\n          0.0,\n          0.6\n        ],\n        \"semantic_type\": \"\",\n        \"description\": \"\"\n      }\n    },\n    {\n      \"column\": \"Healthy life expectancy\",\n      \"properties\": {\n        \"dtype\": \"number\",\n        \"std\": 0.10641052579514867,\n        \"min\": 0.242,\n        \"max\": 0.513,\n        \"num_unique_values\": 5,\n        \"samples\": [\n          0.417,\n          0.242,\n          0.321\n        ],\n        \"semantic_type\": \"\",\n        \"description\": \"\"\n      }\n    },\n    {\n      \"column\": \"Freedom to make life choices\",\n      \"properties\": {\n        \"dtype\": \"number\",\n        \"std\": 0.32048915738289807,\n        \"min\": 0.0,\n        \"max\": 0.775,\n        \"num_unique_values\": 5,\n        \"samples\": [\n          0.767,\n          0.0,\n          0.542\n        ],\n        \"semantic_type\": \"\",\n        \"description\": \"\"\n      }\n    },\n    {\n      \"column\": \"Generosity\",\n      \"properties\": {\n        \"dtype\": \"number\",\n        \"std\": 0.043764140571934,\n        \"min\": 0.091,\n        \"max\": 0.209,\n        \"num_unique_values\": 5,\n        \"samples\": [\n          0.174,\n          0.091,\n          0.144\n        ],\n        \"semantic_type\": \"\",\n        \"description\": \"\"\n      }\n    },\n    {\n      \"column\": \"Perceptions of corruption\",\n      \"properties\": {\n        \"dtype\": \"number\",\n        \"std\": 0.0358706007755655,\n        \"min\": 0.074,\n        \"max\": 0.167,\n        \"num_unique_values\": 5,\n        \"samples\": [\n          0.122,\n          0.088,\n          0.074\n        ],\n        \"semantic_type\": \"\",\n        \"description\": \"\"\n      }\n    },\n    {\n      \"column\": \"Dystopia + residual\",\n      \"properties\": {\n        \"dtype\": \"number\",\n        \"std\": 0.5904119748108095,\n        \"min\": 0.672,\n        \"max\": 1.907,\n        \"num_unique_values\": 5,\n        \"samples\": [\n          0.756,\n          0.672,\n          1.907\n        ],\n        \"semantic_type\": \"\",\n        \"description\": \"\"\n      }\n    },\n    {\n      \"column\": \"Composite Score\",\n      \"properties\": {\n        \"dtype\": \"number\",\n        \"std\": 0.1973460589928261,\n        \"min\": 0.32380000000000003,\n        \"max\": 0.8159000000000001,\n        \"num_unique_values\": 5,\n        \"samples\": [\n          0.7874,\n          0.32380000000000003,\n          0.7039\n        ],\n        \"semantic_type\": \"\",\n        \"description\": \"\"\n      }\n    }\n  ]\n}"
            }
          },
          "metadata": {},
          "execution_count": 28
        }
      ]
    },
    {
      "cell_type": "markdown",
      "source": [
        "3. Visualize the top 5 countries using a horizontal bar chart showing the Composite Score."
      ],
      "metadata": {
        "id": "Eodgnb0uNBsO"
      }
    },
    {
      "cell_type": "code",
      "source": [
        "#extract the top 5 countries from the dataset\n",
        "top5_countries=south_asian_data_sorted.head(5)\n",
        "#plot a horizontal bar graph showing composite score\n",
        "plt.figure(figsize=(10, 6))\n",
        "plt.barh(top5_countries['Country name'], top5_countries['Composite Score'], color='lightblue')\n",
        "plt.xlabel('Composite Score')\n",
        "plt.ylabel('Country')\n",
        "plt.title('Top 5 Countries by Composite Score')\n",
        "plt.show()"
      ],
      "metadata": {
        "colab": {
          "base_uri": "https://localhost:8080/",
          "height": 564
        },
        "id": "QoT5RIq1yoDZ",
        "outputId": "0e4f926e-7ff5-48e2-aaca-365280df4bb8"
      },
      "execution_count": null,
      "outputs": [
        {
          "output_type": "display_data",
          "data": {
            "text/plain": [
              "<Figure size 1000x600 with 1 Axes>"
            ],
            "image/png": "[encoded data removed]"
          },
          "metadata": {}
        }
      ]
    },
    {
      "cell_type": "markdown",
      "source": [
        "4. Discuss whether the rankings based on the Composite Score align with the original Score - support your discussion with some visualization plot.\n",
        "\n",
        "  Ans: The scatter plot compares the Composite Score and the original happiness score of the countries from the dataset.\n",
        "  *   Nepal has the highest composite score and original score which indicates that the composite score aligns with the original score.\n",
        "  *   Afghanistan has the lowest composite score and original score which also indicates that the scores align with each other.\n",
        "\n",
        "  Hence, it can be concluded that rankings based on the composite score closely align with the rankings based on the Original Score.\n",
        "\n",
        "\n",
        "\n"
      ],
      "metadata": {
        "id": "3mKIA4QFNFQc"
      }
    },
    {
      "cell_type": "code",
      "source": [
        "#create a scatter plot to compare the composite score and original score\n",
        "plt.figure(figsize=(8, 6))\n",
        "sns.scatterplot(x='Composite Score', y='score', data=south_asian_df, hue='Country name', palette='tab10')\n",
        "plt.title('Comparison of Composite Score vs Original Score')\n",
        "plt.xlabel('Composite Score')\n",
        "plt.ylabel('Happiness Score')\n",
        "plt.show()"
      ],
      "metadata": {
        "colab": {
          "base_uri": "https://localhost:8080/",
          "height": 564
        },
        "id": "4_Hv0AWrmFqN",
        "outputId": "9ec9be8f-140e-4784-e161-036741e002ff"
      },
      "execution_count": null,
      "outputs": [
        {
          "output_type": "display_data",
          "data": {
            "text/plain": [
              "<Figure size 800x600 with 1 Axes>"
            ],
            "image/png": "[encoded data removed]"
          },
          "metadata": {}
        }
      ]
    },
    {
      "cell_type": "markdown",
      "source": [
        "Task - 3 - Outlier Detection:\n",
        "\n",
        "Tasks:\n",
        "1. Identify outlier countries in South Asia based on their Score and GDP per Capita.\n",
        "2. Define outliers using the 1.5 × IQR rule.\n",
        "\n"
      ],
      "metadata": {
        "id": "8N99ci1ENje3"
      }
    },
    {
      "cell_type": "code",
      "source": [
        "#calculate the IQR based on the score\n",
        "Q1_score=south_asian_df['score'].quantile(0.25)\n",
        "Q3_score=south_asian_df['score'].quantile(0.75)\n",
        "IQR_score=Q3_score-Q1_score\n",
        "\n",
        "#calculate the upper bound and lower bound based on the score\n",
        "lower_bound_score=Q1_score-1.5*IQR_score\n",
        "upper_bound_score=Q3_score+1.5*IQR_score\n",
        "\n",
        "#calculate the IQR based on the GDP per capita\n",
        "Q1_gdp=south_asian_df['Log GDP per capita'].quantile(0.25)\n",
        "Q3_gdp=south_asian_df['Log GDP per capita'].quantile(0.75)\n",
        "IQR_gdp=Q3_gdp-Q1_gdp\n",
        "\n",
        "#calculate the upper bound and lower bound based on the GDP per capita\n",
        "lower_bound_gdp=Q1_gdp-1.5*IQR_gdp\n",
        "upper_bound_gdp=Q3_gdp+1.5*IQR_gdp\n",
        "\n",
        "#identify the outliers based on score and GDP per capita\n",
        "outliers=south_asian_df[(south_asian_df['score']<lower_bound_score)|\n",
        "    (south_asian_df['score']>upper_bound_score)|\n",
        "    (south_asian_df['Log GDP per capita']<lower_bound_gdp)|\n",
        "    (south_asian_df['Log GDP per capita']>upper_bound_gdp)]\n",
        "\n",
        "print(\"Outliers in South Asian countries:\")\n",
        "print(outliers[['Country name','score','Log GDP per capita']])"
      ],
      "metadata": {
        "colab": {
          "base_uri": "https://localhost:8080/"
        },
        "id": "FxVbgKkA6s7D",
        "outputId": "f88c3eb1-15e1-483a-80ac-e515d54bd043"
      },
      "execution_count": null,
      "outputs": [
        {
          "output_type": "stream",
          "name": "stdout",
          "text": [
            "Outliers in South Asian countries:\n",
            "  Country name  score  Log GDP per capita\n",
            "4  Afghanistan  1.721               0.628\n"
          ]
        }
      ]
    },
    {
      "cell_type": "markdown",
      "source": [
        "3. Create a scatter plot with GDP per Capita on the x-axis and Score on the y-axis, highlighting outliers\n",
        "in a different color."
      ],
      "metadata": {
        "id": "dnz0XfyGOcsD"
      }
    },
    {
      "cell_type": "code",
      "source": [
        "#create a scatter plot showing relation between score and gdp\n",
        "plt.figure(figsize=(8, 5))\n",
        "plt.scatter(south_asian_df['Log GDP per capita'], south_asian_df['score'], color='blue', label='Normal')\n",
        "plt.scatter(outliers['Log GDP per capita'], outliers['score'], color='red', label='Outliers')\n",
        "plt.xlabel('Log GDP per capita')\n",
        "plt.ylabel('Happiness Score')\n",
        "plt.title('South Asia: GDP per Capita vs Score (Outliers Highlighted)')\n",
        "plt.legend()\n",
        "plt.show()"
      ],
      "metadata": {
        "colab": {
          "base_uri": "https://localhost:8080/",
          "height": 487
        },
        "id": "7GkX0aSTN70m",
        "outputId": "fb3ef67d-65c2-40dc-f160-601f017b0fa0"
      },
      "execution_count": null,
      "outputs": [
        {
          "output_type": "display_data",
          "data": {
            "text/plain": [
              "<Figure size 800x500 with 1 Axes>"
            ],
            "image/png": "[encoded data removed]"
          },
          "metadata": {}
        }
      ]
    },
    {
      "cell_type": "markdown",
      "source": [
        "4. Discuss the characteristics of these outliers and their potential impact on regional averages.\n",
        "\n",
        "  Ans: The red outlier shows that Afghanistan has significantly lower happiness score and Log GDP per capita compared to other countries.\n",
        "\n",
        "  *  **Impact on regional averages**: Here, the outlier can lower the overall happiness score and GDP per capita of south asian countries as its values are significantly lower than other countries.\n",
        "\n",
        "\n",
        "\n",
        "\n"
      ],
      "metadata": {
        "id": "qyjRjBvfOnWP"
      }
    },
    {
      "cell_type": "markdown",
      "source": [
        "Task - 4 - Exploring Trends Across Metrics:\n",
        "\n",
        "Tasks:\n",
        "1. Choose two metrics (e.g., Freedom to Make Life Choices and Generosity) and calculate their correlation\n",
        "{pearson correlation} with the Score for South Asian countries.\n",
        "\n"
      ],
      "metadata": {
        "id": "voA7onHYOsSQ"
      }
    },
    {
      "cell_type": "code",
      "source": [
        "#calculate the Pearson correlation for freedom and generosity with score\n",
        "correlation_freedom = south_asian_data['Freedom to make life choices'].corr(south_asian_data['score'], method='pearson')\n",
        "correlation_generosity = south_asian_data['Generosity'].corr(south_asian_data['score'], method='pearson')\n",
        "\n",
        "#print the correlation for freedom and generosity with score\n",
        "print(f\"Correlation between Freedom to make life choices and Score: {correlation_freedom}\")\n",
        "print(f\"Correlation between Generosity and Score: {correlation_generosity}\")"
      ],
      "metadata": {
        "colab": {
          "base_uri": "https://localhost:8080/"
        },
        "id": "yTZeW9KaOhsp",
        "outputId": "67621e71-a438-43f3-b969-bd7aff6232d0"
      },
      "execution_count": null,
      "outputs": [
        {
          "output_type": "stream",
          "name": "stdout",
          "text": [
            "Correlation between Freedom to make life choices and Score: 0.801497903141921\n",
            "Correlation between Generosity and Score: 0.8773326267276359\n"
          ]
        }
      ]
    },
    {
      "cell_type": "markdown",
      "source": [
        "2. Create scatter plots with trendlines for these metrics against the Score."
      ],
      "metadata": {
        "id": "m3_hRGFXPI5h"
      }
    },
    {
      "cell_type": "code",
      "source": [
        "#scatter plot with treadlines for Freedom to make life choices vs Score\n",
        "plt.figure(figsize=(8, 4))\n",
        "sns.scatterplot(x='Freedom to make life choices', y='score', data=south_asian_data, color='blue')\n",
        "sns.regplot(x='Freedom to make life choices', y='score', data=south_asian_data, scatter=False, color='blue')\n",
        "plt.title('Freedom to Make Life Choices vs Score')\n",
        "plt.xlabel('Freedom to make life choices')\n",
        "plt.ylabel('Score')\n",
        "plt.show()"
      ],
      "metadata": {
        "colab": {
          "base_uri": "https://localhost:8080/",
          "height": 410
        },
        "id": "6b5lrBV7O3k9",
        "outputId": "3b1bc946-9b5e-48b8-aa18-f7c54763c36f"
      },
      "execution_count": null,
      "outputs": [
        {
          "output_type": "display_data",
          "data": {
            "text/plain": [
              "<Figure size 800x400 with 1 Axes>"
            ],
            "image/png": "[encoded data removed]"
          },
          "metadata": {}
        }
      ]
    },
    {
      "cell_type": "code",
      "source": [
        "#scatter plot with treadlines for Generosity vs Score\n",
        "plt.figure(figsize=(8, 4))\n",
        "sns.scatterplot(x='Generosity', y='score', data=south_asian_data, color='orange')\n",
        "sns.regplot(x='Generosity', y='score', data=south_asian_data, scatter=False, color='orange')\n",
        "plt.title('Generosity vs Score')\n",
        "plt.xlabel('Generosity')\n",
        "plt.ylabel('Score')\n",
        "plt.show()"
      ],
      "metadata": {
        "colab": {
          "base_uri": "https://localhost:8080/",
          "height": 410
        },
        "id": "E8C627AGCKC_",
        "outputId": "2057ea53-a742-4c8a-c4f8-d9a4848dc11f"
      },
      "execution_count": null,
      "outputs": [
        {
          "output_type": "display_data",
          "data": {
            "text/plain": [
              "<Figure size 800x400 with 1 Axes>"
            ],
            "image/png": "[encoded data removed]"
          },
          "metadata": {}
        }
      ]
    },
    {
      "cell_type": "markdown",
      "source": [
        "3. Identify and discuss the strongest and weakest relationships between these metrics and the Score for\n",
        "South Asian countries."
      ],
      "metadata": {
        "id": "CiN4rcO5QjVc"
      }
    },
    {
      "cell_type": "markdown",
      "source": [
        "Task - 5 - Gap Analysis:\n",
        "\n",
        "Tasks:\n",
        "1. Add a new column, GDP-Score Gap, which is the difference between GDP per Capita and the Score\n",
        "for each South Asian country.\n",
        "2. Rank the South Asian countries by this gap in both ascending and descending order.\n",
        "\n"
      ],
      "metadata": {
        "id": "FOv0zj0gQnm-"
      }
    },
    {
      "cell_type": "code",
      "source": [
        "#calculate the GDP-Score Gap\n",
        "GDP_Score_Gap=south_asian_df['Log GDP per capita'] - south_asian_df['score']\n",
        "#add a new column GDP-Score Gap to the dataset\n",
        "south_asian_df['GDP-Score Gap'] = GDP_Score_Gap\n",
        "\n",
        "#rank the countries by the gdp score gap\n",
        "ascending_rank = south_asian_df.sort_values(by='GDP-Score Gap')\n",
        "descending_rank = south_asian_df.sort_values(by='GDP-Score Gap', ascending=False)\n",
        "\n",
        "print(\"Ascending Rank by GDP-Score Gap:\")\n",
        "print(ascending_rank)\n",
        "print(\"\\nDescending Rank by GDP-Score Gap:\")\n",
        "print(descending_rank)"
      ],
      "metadata": {
        "colab": {
          "base_uri": "https://localhost:8080/"
        },
        "id": "M5nLbfYvQtUO",
        "outputId": "da4c4d7e-a238-4fa2-8141-de0c7ba0fb53"
      },
      "execution_count": null,
      "outputs": [
        {
          "output_type": "stream",
          "name": "stdout",
          "text": [
            "Ascending Rank by GDP-Score Gap:\n",
            "  Country name  score  Log GDP per capita  Social support  \\\n",
            "0        Nepal  5.158               0.965           0.990   \n",
            "1     Pakistan  4.657               1.069           0.600   \n",
            "2        India  4.054               1.166           0.653   \n",
            "3   Bangladesh  3.886               1.122           0.249   \n",
            "4  Afghanistan  1.721               0.628           0.000   \n",
            "\n",
            "   Healthy life expectancy  Freedom to make life choices  Generosity  \\\n",
            "0                    0.443                         0.653       0.209   \n",
            "1                    0.321                         0.542       0.144   \n",
            "2                    0.417                         0.767       0.174   \n",
            "3                    0.513                         0.775       0.140   \n",
            "4                    0.242                         0.000       0.091   \n",
            "\n",
            "   Perceptions of corruption  Dystopia + residual  Composite Score  \\\n",
            "0                      0.115                1.783           0.8159   \n",
            "1                      0.074                1.907           0.7039   \n",
            "2                      0.122                0.756           0.7874   \n",
            "3                      0.167                0.919           0.6774   \n",
            "4                      0.088                0.672           0.3238   \n",
            "\n",
            "   GDP-Score Gap  \n",
            "0         -4.193  \n",
            "1         -3.588  \n",
            "2         -2.888  \n",
            "3         -2.764  \n",
            "4         -1.093  \n",
            "\n",
            "Descending Rank by GDP-Score Gap:\n",
            "  Country name  score  Log GDP per capita  Social support  \\\n",
            "4  Afghanistan  1.721               0.628           0.000   \n",
            "3   Bangladesh  3.886               1.122           0.249   \n",
            "2        India  4.054               1.166           0.653   \n",
            "1     Pakistan  4.657               1.069           0.600   \n",
            "0        Nepal  5.158               0.965           0.990   \n",
            "\n",
            "   Healthy life expectancy  Freedom to make life choices  Generosity  \\\n",
            "4                    0.242                         0.000       0.091   \n",
            "3                    0.513                         0.775       0.140   \n",
            "2                    0.417                         0.767       0.174   \n",
            "1                    0.321                         0.542       0.144   \n",
            "0                    0.443                         0.653       0.209   \n",
            "\n",
            "   Perceptions of corruption  Dystopia + residual  Composite Score  \\\n",
            "4                      0.088                0.672           0.3238   \n",
            "3                      0.167                0.919           0.6774   \n",
            "2                      0.122                0.756           0.7874   \n",
            "1                      0.074                1.907           0.7039   \n",
            "0                      0.115                1.783           0.8159   \n",
            "\n",
            "   GDP-Score Gap  \n",
            "4         -1.093  \n",
            "3         -2.764  \n",
            "2         -2.888  \n",
            "1         -3.588  \n",
            "0         -4.193  \n"
          ]
        }
      ]
    },
    {
      "cell_type": "markdown",
      "source": [
        "3. Highlight the top 3 countries with the largest positive and negative gaps using a bar chart."
      ],
      "metadata": {
        "id": "-Cmlfh70SyBi"
      }
    },
    {
      "cell_type": "code",
      "source": [
        "#calculate the top 3 countries with largest positive gap\n",
        "top3_positive = south_asian_df.sort_values(by='GDP-Score Gap', ascending=False).head(3)\n",
        "#calculate the top 3 countries with largest negetive gap\n",
        "top3_negative = south_asian_df.sort_values(by='GDP-Score Gap').head(3)\n",
        "\n",
        "#plot a bar graph for both of them\n",
        "plt.figure(figsize=(12, 6))\n",
        "plt.subplot(1, 2, 1)\n",
        "plt.bar(top3_positive['Country name'], top3_positive['GDP-Score Gap'], color='skyblue')\n",
        "plt.title('Top 3 Positive GDP-Score Gaps')\n",
        "plt.ylabel('GDP-Score Gap')\n",
        "\n",
        "plt.subplot(1, 2, 2)\n",
        "plt.bar(top3_negative['Country name'], top3_negative['GDP-Score Gap'], color='lightcoral')\n",
        "plt.title('Top 3 Negative GDP-Score Gaps')\n",
        "plt.ylabel('GDP-Score Gap')\n",
        "\n",
        "plt.show()"
      ],
      "metadata": {
        "colab": {
          "base_uri": "https://localhost:8080/",
          "height": 545
        },
        "id": "PPKPrO-7Q0_I",
        "outputId": "dd562fe4-5880-48cd-e87e-b949f2fb2657"
      },
      "execution_count": null,
      "outputs": [
        {
          "output_type": "display_data",
          "data": {
            "text/plain": [
              "<Figure size 1200x600 with 2 Axes>"
            ],
            "image/png": "[encoded data removed]"
          },
          "metadata": {}
        }
      ]
    },
    {
      "cell_type": "markdown",
      "source": [
        "4. Analyze the reasons behind these gaps and their implications for South Asian countries.\n",
        "  *   **Reasons behind these gaps:**\n",
        "    1.   The countries GDP per capita\n",
        "    2.   Freedom of people to make life choices\n",
        "    3.   Corruption perception\n",
        "    4.   Health and life expectancy\n",
        "\n",
        "  *   **Implications:**\n",
        "    1.   Economic inequality\n",
        "    2.   Need for political and social freedom\n"
      ],
      "metadata": {
        "id": "hvnTmRusTj3e"
      }
    },
    {
      "cell_type": "markdown",
      "source": [
        "#3.3 Problem - 3 - Comparative Analysis:\n",
        "Task - 1 - Setup Task - Preparing the Middle Eastern Dataset:\n",
        "\n",
        "1. Similar in Task - 1 of Problem 2 create a dataframe from middle eastern countries. For hint use the\n",
        "following list:\n",
        "\n",
        "  middle east countries = [ \"Bahrain\", \"Iran\", \"Iraq\", \"Israel\", \"Jordan\",\n",
        "  \"Kuwait\", \"Lebanon\", \"Oman\", \"Palestine\", \"Qatar\", \"Saudi Arabia\", \"Syria\",\n",
        "  \"United Arab Emirates\", \"Yemen\"]\n",
        "  \n",
        "Complete the following task:"
      ],
      "metadata": {
        "id": "Ytl1ECaXTlQb"
      }
    },
    {
      "cell_type": "markdown",
      "source": [
        "1. Descriptive Statistics:\n",
        "  *   Calculate the mean, Standard deviation of the score for both South Asia and Middle East.\n",
        "\n"
      ],
      "metadata": {
        "id": "-k_o3CClT95p"
      }
    },
    {
      "cell_type": "code",
      "source": [
        "#define the middle east contries\n",
        "middle_east_countries = [\"Bahrain\", \"Iran\", \"Iraq\", \"Israel\", \"Jordan\", \"Kuwait\", \"Lebanon\", \"Oman\", \"Palestine\", \"Qatar\", \"Saudi Arabia\", \"Syria\", \"United Arab Emirates\", \"Yemen\"]\n",
        "#filtering the middle east countries from the dataset\n",
        "middle_east_data = df[df['Country name'].isin(middle_east_countries)]\n",
        "\n",
        "#calculate the mean and standard deviation for south asia\n",
        "south_asia_mean = south_asian_data['score'].mean()\n",
        "std_south_asia = south_asian_data['score'].std()\n",
        "\n",
        "#calculate the mean and standard deviation for middle east\n",
        "middle_east_mean = middle_east_data['score'].mean()\n",
        "std_middle_east = middle_east_data['score'].std()\n",
        "\n",
        "print(f\"South Asia - Mean Score: {south_asia_mean}, Standard Deviation: {std_south_asia}\")\n",
        "print(f\"Middle East - Mean Score: {middle_east_mean}, Standard Deviation: {std_middle_east}\")"
      ],
      "metadata": {
        "colab": {
          "base_uri": "https://localhost:8080/"
        },
        "id": "HyA-PJkKSbys",
        "outputId": "2e5d1097-fff1-4252-86ce-2debef40ae96"
      },
      "execution_count": null,
      "outputs": [
        {
          "output_type": "stream",
          "name": "stdout",
          "text": [
            "South Asia - Mean Score: 3.8952000000000004, Standard Deviation: 1.3160025455902433\n",
            "Middle East - Mean Score: 5.412100000000001, Standard Deviation: 1.5662011684327144\n"
          ]
        }
      ]
    },
    {
      "cell_type": "markdown",
      "source": [
        "  *   Which region has higher happiness Scores on average?"
      ],
      "metadata": {
        "id": "BrcsxG-IInNG"
      }
    },
    {
      "cell_type": "code",
      "source": [
        "#compare the average happiness score for south asia and middle east\n",
        "if south_asia_mean > middle_east_mean:\n",
        "    print(\"South Asia has a higher average happiness score.\")\n",
        "elif middle_east_mean > south_asia_mean:\n",
        "    print(\"Middle East has a higher average happiness score.\")\n",
        "else:\n",
        "    print(\"Both regions have the same average happiness score.\")"
      ],
      "metadata": {
        "colab": {
          "base_uri": "https://localhost:8080/"
        },
        "id": "hfDZZECWUnkz",
        "outputId": "bdba4abd-7ee8-40cf-cc08-fd6cd8693ff7"
      },
      "execution_count": null,
      "outputs": [
        {
          "output_type": "stream",
          "name": "stdout",
          "text": [
            "Middle East has a higher average happiness score.\n"
          ]
        }
      ]
    },
    {
      "cell_type": "markdown",
      "source": [
        "2. Top and Bottom Performers:\n",
        "  *   Identify the top 3 and bottom 3 countries in each region based on the score."
      ],
      "metadata": {
        "id": "iNibdF5GVGMz"
      }
    },
    {
      "cell_type": "code",
      "source": [
        "#calculate the top 3 countries in south asia\n",
        "top3_south_asia = south_asian_df.sort_values(by='score', ascending=False).head(3)\n",
        "print(\"Top 3 countries in South Asia:\")\n",
        "print(top3_south_asia[['Country name', 'score']])\n",
        "#calculate the bottom 3 countries in south asia\n",
        "bottom3_south_asia = south_asian_df.sort_values(by='score').head(3)\n",
        "print(\"\\nBottom 3 countries in South Asia:\")\n",
        "print(bottom3_south_asia[['Country name', 'score']])\n",
        "\n",
        "#calculate the top 3 countries in middle east\n",
        "top3_middle_east = middle_east_data.sort_values(by='score', ascending=False).head(3)\n",
        "print(\"\\nTop 3 countries in Middle East:\")\n",
        "print(top3_middle_east[['Country name', 'score']])\n",
        "#calculate the top 3 countries in middle east\n",
        "bottom3_middle_east = middle_east_data.sort_values(by='score').head(3)\n",
        "print(\"\\nBottom 3 countries in Middle East:\")\n",
        "print(bottom3_middle_east[['Country name', 'score']])"
      ],
      "metadata": {
        "colab": {
          "base_uri": "https://localhost:8080/"
        },
        "id": "8Z6P2fw0U0Tr",
        "outputId": "e0eb57ed-02d1-4f1a-c609-16e56fb55fb7"
      },
      "execution_count": null,
      "outputs": [
        {
          "output_type": "stream",
          "name": "stdout",
          "text": [
            "Top 3 countries in South Asia:\n",
            "  Country name  score\n",
            "0        Nepal  5.158\n",
            "1     Pakistan  4.657\n",
            "2        India  4.054\n",
            "\n",
            "Bottom 3 countries in South Asia:\n",
            "  Country name  score\n",
            "4  Afghanistan  1.721\n",
            "3   Bangladesh  3.886\n",
            "2        India  4.054\n",
            "\n",
            "Top 3 countries in Middle East:\n",
            "            Country name  score\n",
            "4                 Israel  7.341\n",
            "12                Kuwait  6.951\n",
            "21  United Arab Emirates  6.733\n",
            "\n",
            "Bottom 3 countries in Middle East:\n",
            "    Country name  score\n",
            "141      Lebanon  2.707\n",
            "132        Yemen  3.561\n",
            "124       Jordan  4.186\n"
          ]
        }
      ]
    },
    {
      "cell_type": "markdown",
      "source": [
        " *   Plot bar charts comparing these charts."
      ],
      "metadata": {
        "id": "1eFbUgA-J2Z5"
      }
    },
    {
      "cell_type": "code",
      "source": [
        "#plot bar charts for south asia and middle east\n",
        "plt.figure(figsize=(14, 6))\n",
        "\n",
        "#plot bar graph for south asia\n",
        "plt.subplot(1, 2, 1)\n",
        "plt.bar(top3_south_asia['Country name'], top3_south_asia['score'], color='skyblue', label='Top 3')\n",
        "plt.bar(bottom3_south_asia['Country name'], bottom3_south_asia['score'], color='lightcoral', label='Bottom 3')\n",
        "plt.title('South Asia - Happiness Score')\n",
        "plt.xlabel('Country')\n",
        "plt.ylabel('Happiness Score')\n",
        "plt.legend()\n",
        "\n",
        "#plot bar graph for middle east\n",
        "plt.subplot(1, 2, 2)\n",
        "plt.bar(top3_middle_east['Country name'], top3_middle_east['score'], color='skyblue', label='Top 3')\n",
        "plt.bar(bottom3_middle_east['Country name'], bottom3_middle_east['score'], color='lightcoral', label='Bottom 3')\n",
        "plt.title('Middle East - Happiness Score')\n",
        "plt.xlabel('Country')\n",
        "plt.ylabel('Happiness Score')\n",
        "plt.xticks(rotation=45, ha='right')\n",
        "plt.legend()\n",
        "\n",
        "plt.show()"
      ],
      "metadata": {
        "colab": {
          "base_uri": "https://localhost:8080/",
          "height": 665
        },
        "id": "8aIQRUjXVen_",
        "outputId": "7b26297e-3096-434b-daad-d71f7e6805c2"
      },
      "execution_count": null,
      "outputs": [
        {
          "output_type": "display_data",
          "data": {
            "text/plain": [
              "<Figure size 1400x600 with 2 Axes>"
            ],
            "image/png": "[encoded data removed]"
          },
          "metadata": {}
        }
      ]
    },
    {
      "cell_type": "markdown",
      "source": [
        "3. Metric Comparisons:\n",
        "  *   Compare key metrics like GDP per Capita, Social Support, and Healthy Life Expectancy between the regions using grouped bar charts.\n"
      ],
      "metadata": {
        "id": "gSxwvsOnV6_s"
      }
    },
    {
      "cell_type": "code",
      "source": [
        "#grouped bar charts to compare GDP per Capita, Social Support, and Healthy Life Expectancy\n",
        "plt.figure(figsize=(14, 6))\n",
        "\n",
        "#plot bar graph for GDP per capita for south asia and middle east\n",
        "plt.subplot(1, 3, 1)\n",
        "south_asia_gdp = south_asian_df['Log GDP per capita'].mean()\n",
        "middle_east_gdp = middle_east_data['Log GDP per capita'].mean()\n",
        "plt.bar(['South Asia', 'Middle East'], [south_asia_gdp, middle_east_gdp], color=['skyblue', 'lightcoral'])\n",
        "plt.title('Log GDP per Capita Comparison')\n",
        "plt.ylabel('Log GDP per capita')\n",
        "\n",
        "#plot bar graph for Social Support for south asia and middle east\n",
        "plt.subplot(1, 3, 2)\n",
        "south_asia_social_support = south_asian_df['Social support'].mean()\n",
        "middle_east_social_support = middle_east_data['Social support'].mean()\n",
        "plt.bar(['South Asia', 'Middle East'], [south_asia_social_support, middle_east_social_support], color=['skyblue', 'lightcoral'])\n",
        "plt.title('Social Support Comparison')\n",
        "plt.ylabel('Social support')\n",
        "\n",
        "#plot bar graph for Healthy Life Expectancy for south asia and middle east\n",
        "plt.subplot(1, 3, 3)\n",
        "south_asia_health = south_asian_df['Healthy life expectancy'].mean()\n",
        "middle_east_health = middle_east_data['Healthy life expectancy'].mean()\n",
        "plt.bar(['South Asia', 'Middle East'], [south_asia_health, middle_east_health], color=['skyblue', 'lightcoral'])\n",
        "plt.title('Healthy Life Expectancy Comparison')\n",
        "plt.ylabel('Healthy life expectancy')\n",
        "\n",
        "plt.show()"
      ],
      "metadata": {
        "id": "ubCSay5BVhql",
        "colab": {
          "base_uri": "https://localhost:8080/",
          "height": 545
        },
        "outputId": "5d5093e0-e72f-483d-ed96-281c8ab000f1"
      },
      "execution_count": null,
      "outputs": [
        {
          "output_type": "display_data",
          "data": {
            "text/plain": [
              "<Figure size 1400x600 with 3 Axes>"
            ],
            "image/png": "[encoded data removed]"
          },
          "metadata": {}
        }
      ]
    },
    {
      "cell_type": "markdown",
      "source": [
        "  *   Which metrics show the largest disparity between the two regions?\n",
        "\n",
        "  Ans: Log GDP per capita shows the largest disparity between the two regions"
      ],
      "metadata": {
        "id": "nLrzIpTmrS9D"
      }
    },
    {
      "cell_type": "markdown",
      "source": [
        "4. Happiness Disparity:\n",
        "  *   Compute the range (max - min) and coefficient of variation (CV) for Score in both regions."
      ],
      "metadata": {
        "id": "65IS7S3Or27I"
      }
    },
    {
      "cell_type": "code",
      "source": [
        "#calculate the range and coefficient of variation for south asia\n",
        "south_asia_range = south_asian_df['score'].max() - south_asian_df['score'].min()\n",
        "south_asia_cv = (south_asian_df['score'].std() / south_asian_df['score'].mean()) * 100\n",
        "\n",
        "#calculate the range and coefficient of variation for south asia\n",
        "middle_east_range = middle_east_data['score'].max() - middle_east_data['score'].min()\n",
        "middle_east_cv = (middle_east_data['score'].std() / middle_east_data['score'].mean()) * 100\n",
        "\n",
        "print(f\"South Asia - Range: {south_asia_range}, CV: {south_asia_cv:.2f}%\")\n",
        "print(f\"Middle East - Range: {middle_east_range}, CV: {middle_east_cv:.2f}%\")"
      ],
      "metadata": {
        "id": "esTGN7gcWSXD",
        "colab": {
          "base_uri": "https://localhost:8080/"
        },
        "outputId": "ace08e59-bb79-4609-fa38-42b37253e326"
      },
      "execution_count": null,
      "outputs": [
        {
          "output_type": "stream",
          "name": "stdout",
          "text": [
            "South Asia - Range: 3.4370000000000003, CV: 33.79%\n",
            "Middle East - Range: 4.634, CV: 28.94%\n"
          ]
        }
      ]
    },
    {
      "cell_type": "markdown",
      "source": [
        "  *   Which region has greater variability in happiness?"
      ],
      "metadata": {
        "id": "Ly8zK5kwN_pe"
      }
    },
    {
      "cell_type": "code",
      "source": [
        "#check which region has greater variability\n",
        "if south_asia_cv > middle_east_cv:\n",
        "    print(\"South Asia has greater variability in happiness.\")\n",
        "elif middle_east_cv > south_asia_cv:\n",
        "    print(\"Middle East has greater variability in happiness.\")\n",
        "else:\n",
        "    print(\"Both regions have the same variability in happiness.\")"
      ],
      "metadata": {
        "id": "1mIWz_hMN9QK",
        "colab": {
          "base_uri": "https://localhost:8080/"
        },
        "outputId": "c46c14f4-bf48-4381-feb8-902797a89b7d"
      },
      "execution_count": null,
      "outputs": [
        {
          "output_type": "stream",
          "name": "stdout",
          "text": [
            "South Asia has greater variability in happiness.\n"
          ]
        }
      ]
    },
    {
      "cell_type": "markdown",
      "source": [
        "5. Correlation Analysis:\n",
        "  *   Analyze the correlation of Score with other metrics Freedom to Make Life Choices, and Generosity within each region.\n"
      ],
      "metadata": {
        "id": "Zkcvu_R8sQ1a"
      }
    },
    {
      "cell_type": "code",
      "source": [
        "#calculate the correlation of score with Freedom to make life choices for south asia\n",
        "correlation_freedom_sa = south_asian_df['Freedom to make life choices'].corr(south_asian_df['score'], method='pearson')\n",
        "#calculate the correlation of score with Generosity for south asia\n",
        "correlation_generosity_sa = south_asian_df['Generosity'].corr(south_asian_df['score'], method='pearson')\n",
        "\n",
        "print(f\"South Asia - Correlation between Freedom to make life choices and Score: {correlation_freedom_sa}\")\n",
        "print(f\"South Asia - Correlation between Generosity and Score: {correlation_generosity_sa}\")\n",
        "\n",
        "#calculate the correlation of score with Freedom to make life choices for middle east\n",
        "correlation_freedom_me = middle_east_data['Freedom to make life choices'].corr(middle_east_data['score'], method='pearson')\n",
        "#calculate the correlation of score with Generosity for middle east\n",
        "correlation_generosity_me = middle_east_data['Generosity'].corr(middle_east_data['score'], method='pearson')\n",
        "\n",
        "print(f\"Middle East - Correlation between Freedom to make life choices and Score: {correlation_freedom_me}\")\n",
        "print(f\"Middle East - Correlation between Generosity and Score: {correlation_generosity_me}\")"
      ],
      "metadata": {
        "colab": {
          "base_uri": "https://localhost:8080/"
        },
        "id": "m9iXd9cosL51",
        "outputId": "8a190ee6-ac04-474a-a343-7cf460b7efd2"
      },
      "execution_count": null,
      "outputs": [
        {
          "output_type": "stream",
          "name": "stdout",
          "text": [
            "South Asia - Correlation between Freedom to make life choices and Score: 0.801497903141921\n",
            "South Asia - Correlation between Generosity and Score: 0.8773326267276359\n",
            "Middle East - Correlation between Freedom to make life choices and Score: 0.8632202433827543\n",
            "Middle East - Correlation between Generosity and Score: 0.6275236536964182\n"
          ]
        }
      ]
    },
    {
      "cell_type": "markdown",
      "source": [
        "  *  Create scatter plots to visualize and interpret the relationships."
      ],
      "metadata": {
        "id": "sS7JZboROQ_B"
      }
    },
    {
      "cell_type": "code",
      "source": [
        "#scatter plots for south asia\n",
        "plt.figure(figsize=(14, 6))\n",
        "#scatter plot compairing the correlation of score with Freedom to make life choices for south asia\n",
        "plt.subplot(1, 2, 1)\n",
        "sns.scatterplot(x='Freedom to make life choices', y='score', data=south_asian_data)\n",
        "plt.title('South Asia: Freedom to Make Life Choices vs. Score')\n",
        "plt.ylabel('Happiness Score')\n",
        "\n",
        "#scatter plot compairing the correlation of score with Generosity for south asia\n",
        "plt.subplot(1, 2, 2)\n",
        "sns.scatterplot(x='Generosity', y='score', data=south_asian_data)\n",
        "plt.title('South Asia: Generosity vs. Score')\n",
        "plt.ylabel('Happiness Score')\n",
        "\n",
        "plt.show()"
      ],
      "metadata": {
        "colab": {
          "base_uri": "https://localhost:8080/",
          "height": 564
        },
        "id": "k0Y9sBxCsmDk",
        "outputId": "650f8152-af24-442c-c63f-954c077c1719"
      },
      "execution_count": null,
      "outputs": [
        {
          "output_type": "display_data",
          "data": {
            "text/plain": [
              "<Figure size 1400x600 with 2 Axes>"
            ],
            "image/png": "[encoded data removed]"
          },
          "metadata": {}
        }
      ]
    },
    {
      "cell_type": "code",
      "source": [
        "#scatter plots for middle east\n",
        "plt.figure(figsize=(14, 6))\n",
        "\n",
        "#scatter plot compairing the correlation of score with Freedom to make life choices for middle east\n",
        "plt.subplot(1, 2, 1)\n",
        "sns.scatterplot(x='Freedom to make life choices', y='score', data=middle_east_data)\n",
        "plt.title('Middle East: Freedom to Make Life Choices vs. Score')\n",
        "plt.ylabel('Happiness Score')\n",
        "\n",
        "#scatter plot compairing the correlation of score with Generosity for middle east\n",
        "plt.subplot(1, 2, 2)\n",
        "sns.scatterplot(x='Generosity', y='score', data=middle_east_data)\n",
        "plt.title('Middle East: Generosity vs. Score')\n",
        "plt.ylabel('Happiness Score')\n",
        "\n",
        "plt.show()"
      ],
      "metadata": {
        "colab": {
          "base_uri": "https://localhost:8080/",
          "height": 564
        },
        "id": "wy_9Xv1fsneo",
        "outputId": "6171a661-97ae-48f8-f2ca-2b3dc2117c36"
      },
      "execution_count": null,
      "outputs": [
        {
          "output_type": "display_data",
          "data": {
            "text/plain": [
              "<Figure size 1400x600 with 2 Axes>"
            ],
            "image/png": "[encoded data removed]"
          },
          "metadata": {}
        }
      ]
    },
    {
      "cell_type": "markdown",
      "source": [
        "6. Outlier Detection:\n",
        "\n",
        "\n",
        "  *   Identify outlier countries in both regions based on Score and GDP per Capita.\n"
      ],
      "metadata": {
        "id": "XVvFBXPHs62b"
      }
    },
    {
      "cell_type": "code",
      "source": [
        "#calculate the IQR based on the score for south asia\n",
        "Q1_score=south_asian_df['score'].quantile(0.25)\n",
        "Q3_score=south_asian_df['score'].quantile(0.75)\n",
        "IQR_score=Q3_score-Q1_score\n",
        "\n",
        "#calculate the upper bound and lower bound based on the score for south asia\n",
        "lower_bound_score=Q1_score-1.5*IQR_score\n",
        "upper_bound_score=Q3_score+1.5*IQR_score\n",
        "\n",
        "#calculate the IQR based on the GDP per capita for south asia\n",
        "Q1_gdp=south_asian_df['Log GDP per capita'].quantile(0.25)\n",
        "Q3_gdp=south_asian_df['Log GDP per capita'].quantile(0.75)\n",
        "IQR_gdp=Q3_gdp-Q1_gdp\n",
        "\n",
        "#calculate the upper bound and lower bound based on the GDP per capita for south asia\n",
        "lower_bound_gdp=Q1_gdp-1.5*IQR_gdp\n",
        "upper_bound_gdp=Q3_gdp+1.5*IQR_gdp\n",
        "\n",
        "#identify the outliers based on score and GDP per capita for south asia\n",
        "outliers=south_asian_df[(south_asian_df['score']<lower_bound_score)|\n",
        "    (south_asian_df['score']>upper_bound_score)|\n",
        "    (south_asian_df['Log GDP per capita']<lower_bound_gdp)|\n",
        "    (south_asian_df['Log GDP per capita']>upper_bound_gdp)]\n",
        "\n",
        "print(\"Outliers in South Asian countries:\")\n",
        "print(outliers[['Country name','score','Log GDP per capita']])\n",
        "\n",
        "#calculate the IQR based on the score for middle east\n",
        "Q1_score_ME=middle_east_data['score'].quantile(0.25)\n",
        "Q3_score_ME=middle_east_data['score'].quantile(0.75)\n",
        "IQR_score_ME=Q3_score_ME-Q1_score_ME\n",
        "\n",
        "lower_bound_score_ME=Q1_score_ME-1.5*IQR_score_ME\n",
        "upper_bound_score_ME=Q3_score_ME+1.5*IQR_score_ME\n",
        "\n",
        "#calculate the IQR based on the CDP per capita for middle east\n",
        "Q1_gdp_ME=middle_east_data['Log GDP per capita'].quantile(0.25)\n",
        "Q3_gdp_ME=middle_east_data['Log GDP per capita'].quantile(0.75)\n",
        "IQR_gdp_ME=Q3_gdp_ME-Q1_gdp_ME\n",
        "\n",
        "lower_bound_gdp_ME=Q1_gdp_ME-1.5*IQR_gdp_ME\n",
        "upper_bound_gdp_ME=Q3_gdp_ME+1.5*IQR_gdp_ME\n",
        "\n",
        "#identify the outliers based on score and GDP per capita for middle east\n",
        "outliers_ME=middle_east_data[(middle_east_data['score']<lower_bound_score_ME)|\n",
        "    (middle_east_data['score']>upper_bound_score_ME)|\n",
        "    (middle_east_data['Log GDP per capita']<lower_bound_gdp_ME)|\n",
        "    (middle_east_data['Log GDP per capita']>upper_bound_gdp_ME)]\n",
        "\n",
        "print(\"\\nOutliers in Middle East  countries:\")\n",
        "print(outliers_ME[['Country name','score','Log GDP per capita']])\n"
      ],
      "metadata": {
        "colab": {
          "base_uri": "https://localhost:8080/"
        },
        "id": "z4Wig1mps4QS",
        "outputId": "006d3f1f-1a44-4a25-e8ff-38f56a866446"
      },
      "execution_count": 54,
      "outputs": [
        {
          "output_type": "stream",
          "name": "stdout",
          "text": [
            "Outliers in South Asian countries:\n",
            "  Country name  score  Log GDP per capita\n",
            "4  Afghanistan  1.721               0.628\n",
            "\n",
            "Outliers in Middle East  countries:\n",
            "Empty DataFrame\n",
            "Columns: [Country name, score, Log GDP per capita]\n",
            "Index: []\n"
          ]
        }
      ]
    },
    {
      "cell_type": "markdown",
      "source": [
        "  *   Plot these outliers and discuss their implications."
      ],
      "metadata": {
        "id": "xsXxw9fDQk8n"
      }
    },
    {
      "cell_type": "code",
      "source": [
        "# Create a scatter plot for Middle East, highlighting outliers\n",
        "plt.figure(figsize=(8, 5))\n",
        "plt.scatter(middle_east_data['Log GDP per capita'], middle_east_data['score'], color='blue', label='Normal')\n",
        "plt.scatter(outliers['Log GDP per capita'], outliers['score'], color='red', label='Outliers')\n",
        "plt.xlabel('Log GDP per capita')\n",
        "plt.ylabel('Score')\n",
        "plt.title('Middle East: GDP per Capita vs Score (Outliers Highlighted)')\n",
        "plt.legend()\n",
        "plt.show()"
      ],
      "metadata": {
        "colab": {
          "base_uri": "https://localhost:8080/",
          "height": 484
        },
        "id": "fautls5wtJNb",
        "outputId": "0ace346e-3a48-4c54-f111-b7a9cd19c0c8"
      },
      "execution_count": null,
      "outputs": [
        {
          "output_type": "display_data",
          "data": {
            "text/plain": [
              "<Figure size 800x500 with 1 Axes>"
            ],
            "image/png": "[encoded data removed]"
          },
          "metadata": {}
        }
      ]
    },
    {
      "cell_type": "markdown",
      "source": [
        "7. Visualization:\n",
        "*   Create boxplots comparing the distribution of Score between South Asia and the Middle East.\n"
      ],
      "metadata": {
        "id": "u2-NPn_itlRz"
      }
    },
    {
      "cell_type": "code",
      "source": [
        "#combine the data of south asia and middle east for the box plot\n",
        "combined_data = pd.concat([south_asian_data['score'], middle_east_data['score']], axis=1)\n",
        "combined_data.columns = ['South Asia', 'Middle East']\n",
        "\n",
        "plt.figure(figsize=(8, 6))\n",
        "sns.boxplot(data=combined_data)\n",
        "plt.title('Comparison of Happiness Scores between South Asia and the Middle East')\n",
        "plt.ylabel('Happiness Score')\n",
        "\n",
        "plt.show()"
      ],
      "metadata": {
        "id": "0lYzngehtKjb",
        "colab": {
          "base_uri": "https://localhost:8080/",
          "height": 542
        },
        "outputId": "77680969-54e1-4fbf-b1f1-d87e3e88cd89"
      },
      "execution_count": null,
      "outputs": [
        {
          "output_type": "display_data",
          "data": {
            "text/plain": [
              "<Figure size 800x600 with 1 Axes>"
            ],
            "image/png": "[encoded data removed]"
          },
          "metadata": {}
        }
      ]
    },
    {
      "cell_type": "markdown",
      "source": [
        "*   Interpret the key differences in distribution shapes, medians, and outliers.\n",
        "\n",
        "  1.   Distribution shapes: South Asia is more symmetrical than middle east.\n",
        "  2.   Medians: The median for happiness score is higher for middle east than south asia.\n",
        "  3.   Outliers: There is one outlier in south asia but none in the middle east.\n",
        "\n",
        "\n",
        "\n"
      ],
      "metadata": {
        "id": "sKz0WMngRC3f"
      }
    }
  ]
}